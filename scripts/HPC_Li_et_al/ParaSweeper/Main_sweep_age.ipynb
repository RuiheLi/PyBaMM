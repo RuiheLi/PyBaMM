{
 "cells": [
  {
   "cell_type": "markdown",
   "metadata": {},
   "source": [
    "### Example notebook for a general script to run aging cycle"
   ]
  },
  {
   "cell_type": "code",
   "execution_count": 57,
   "metadata": {},
   "outputs": [
    {
     "name": "stdout",
     "output_type": "stream",
     "text": [
      "The autoreload extension is already loaded. To reload it, use:\n",
      "  %reload_ext autoreload\n"
     ]
    }
   ],
   "source": [
    "# magic lines that avoid re-start \n",
    "%load_ext autoreload\n",
    "%autoreload 2\n",
    "import csv, random, os,sys\n",
    "import pybamm as pb;import pandas as pd;import numpy as np;\n",
    "import os, json,openpyxl,traceback,multiprocessing,scipy.optimize\n",
    "import matplotlib.pyplot as plt;\n",
    "import imageio,timeit,random,time, signal\n",
    "from scipy.io import savemat,loadmat;\n",
    "from pybamm import constants,exp;import matplotlib as mpl; \n",
    "fs=17; \n",
    "font = {'family' : 'DejaVu Sans','size'   : fs}\n",
    "mpl.rc('font', **font)"
   ]
  },
  {
   "cell_type": "code",
   "execution_count": 58,
   "metadata": {},
   "outputs": [],
   "source": [
    "########################     Global settings!!!\n",
    "rows_per_file = 4;  Scan_end_end = 1000;\n",
    "purpose_i = \"Sweep_Sol_Age_2\"\n",
    "\n",
    "On_HPC = False \n",
    "Runshort = True                    # a long run or a quick test\n",
    "\n",
    "if On_HPC:\n",
    "    i_bundle = int(os.environ[\"PBS_ARRAY_INDEX\"])\n",
    "else:\n",
    "    i_bundle = 3; # manually specify # 30\n",
    "\n",
    "Scan_start = (i_bundle-1)*rows_per_file+1;    \n",
    "Scan_end   = min(Scan_start + rows_per_file-1, Scan_end_end)    \n",
    "purpose = f\"{purpose_i}_Case_{Scan_start}_{Scan_end}\"\n",
    "# interpetation: Simnon suggested, with cracking activation, heat transfer\n",
    "para_csv = f\"Bundle_{i_bundle}.csv\"  # name of the random file to get parameters"
   ]
  },
  {
   "cell_type": "code",
   "execution_count": 59,
   "metadata": {},
   "outputs": [],
   "source": [
    "# specify path:\n",
    "if On_HPC:                          # Run on HPC\n",
    "    Path_Data_pre = \"InputData/\" \n",
    "    BasicPath=os.getcwd() \n",
    "    Para_file = f\"InputData/{purpose_i}/\"  +  para_csv\n",
    "else:\n",
    "    Path_Data_pre = os.path.expanduser(\n",
    "        \"~/EnvPB_Linux/PyBaMM/scripts/HPC_Li_et_al/HPC_Paper_SimSave/Example_Expdata\") # for Linux\n",
    "    BasicPath =  os.path.expanduser(\n",
    "        \"~/EnvPB_Linux/PyBaMM/scripts/HPC_Li_et_al/HPC_Paper_SimSave/Results\")\n",
    "    Para_file = os.path.expanduser(\n",
    "        \"~/EnvPB_Linux/PyBaMM/scripts/HPC_Li_et_al/HPC_Paper_SimSave\")+f'/Get_Input/{purpose_i}/'+para_csv\n",
    "\n",
    "if not os.path.exists(BasicPath +\"/\"+ purpose):\n",
    "    os.mkdir(BasicPath +\"/\"+ purpose);\n",
    "\n",
    "from scripts.HPC_Li_et_al.ParaSweeper.Fun_P2 import *\n",
    "parameter_names, combinations = load_combinations_from_csv(Para_file)"
   ]
  },
  {
   "cell_type": "code",
   "execution_count": 60,
   "metadata": {},
   "outputs": [
    {
     "name": "stdout",
     "output_type": "stream",
     "text": [
      "Total scan case is 4\n"
     ]
    }
   ],
   "source": [
    "pool_no = len(combinations)\n",
    "Indexs  = np.arange(Scan_start-1,Scan_end)\n",
    "index_list = Indexs+1\n",
    "\n",
    "# Get all para\n",
    "Para_dict_list = []\n",
    "# get all dictionaries\n",
    "for combination in combinations:\n",
    "    input_dict = {}\n",
    "    for parameter_name,para_value in zip(parameter_names,combination ):\n",
    "        input_dict[parameter_name] = para_value\n",
    "    Para_dict_list.append(input_dict)\n",
    "print(f\"Total scan case is {len(Para_dict_list)}\")\n",
    "\n",
    "# try to plot experiment data\n",
    "Path_Data  = Path_Data_pre+\"/example_Age_SOH.csv\"\n",
    "my_data = pd.read_csv( Path_Data)\n",
    "\n",
    "cap_thr   = my_data[\"Charge Throughput (A.h)\"] / 1e3\n",
    "cap_C_10  = my_data[\"C/10 Capacity (mA.h)\"]/1e3\n",
    "soh_C_10  = cap_C_10 / cap_C_10[0] * 100\n",
    "# plt.plot(cap_thr,soh_C_10,\"-o\")\n",
    "cap_thr   = np.array(cap_thr).tolist()\n",
    "cap_C_10  = np.array(cap_C_10).tolist()\n",
    "soh_C_10  = np.array(soh_C_10).tolist()\n",
    "XY_Exp =[cap_thr,soh_C_10]\n",
    "\n",
    "#####################################################################\n",
    "########################  Define experiment  ########################\n",
    "#####################################################################\n",
    "V_max = 4.2;        V_min = 2.5; \n",
    "exp_AGE_text = [(\n",
    "    f\"Discharge at 1C until {V_min}V\", \n",
    "    f\"Charge at 0.3C until {V_max}V\",\n",
    "    f\"Hold at {V_max} V until C/100\",\n",
    "    ),  ]  # *  78\n",
    "step_AGE_CD =0;   step_AGE_CC =1;   step_AGE_CV =2;\n",
    "exp_RPT_text = [ (\n",
    "    # refill\n",
    "    \"Rest for 1 minutes\", # change this step to rest to avoid errors. \n",
    "    \"Rest for 1 hours\", \n",
    "    # 0.1C cycle \n",
    "    f\"Discharge at 0.1C until {V_min} V\",  \n",
    "    \"Rest for 3 hours (20 minute period)\",  \n",
    "    f\"Charge at 0.1C until {V_max} V\",\n",
    "    f\"Hold at {V_max}V until C/100\",\n",
    "    \"Rest for 1 hours\",\n",
    "    ) ] * 1\n",
    "exp_breakin_text = [ (\n",
    "    # refill\n",
    "    f\"Hold at {V_max}V until C/100\",\n",
    "    \"Rest for 1 hours\", \n",
    "    # 0.1C cycle \n",
    "    f\"Discharge at 0.1C until {V_min} V\",  \n",
    "    \"Rest for 3 hours (20 minute period)\",  \n",
    "    f\"Charge at 0.1C until {V_max} V\",\n",
    "    f\"Hold at {V_max}V until C/100\",\n",
    "    \"Rest for 1 hours\",\n",
    "    ) ] * 1\n",
    "# step index for RPT\n",
    "step_0p1C_CD = 2; step_0p1C_CC = 4;   step_0p1C_RE =3;    \n",
    "cycle_no = -1; "
   ]
  },
  {
   "cell_type": "code",
   "execution_count": 61,
   "metadata": {},
   "outputs": [
    {
     "data": {
      "text/plain": [
       "{'Scan No': 9,\n",
       " 'Ageing temperature': 10.0,\n",
       " 'Outer SEI solvent diffusivity [m2.s-1]': 1e-22,\n",
       " 'Dead lithium decay constant [s-1]': 1e-06,\n",
       " 'Negative electrode LAM constant proportional term [s-1]': 5e-10,\n",
       " 'Negative electrode cracking rate': 1e-22,\n",
       " 'Total ageing cycles': 1170,\n",
       " 'Ageing cycles between RPT': 78,\n",
       " 'Update cycles for ageing': 26,\n",
       " 'Initial electrolyte excessive amount ratio': 1.0,\n",
       " 'Cycles within RPT': 1,\n",
       " 'RPT temperature': 25,\n",
       " 'Mesh list': '[5,5,5,60,20]',\n",
       " 'Para_Set': 'OKane2022',\n",
       " 'Model option': \"{'thermal': 'lumped', 'SEI': 'solvent-diffusion limited', 'SEI on cracks': 'true', 'SEI film resistance': 'distributed', 'SEI porosity change': 'true', 'particle mechanics': ('swelling and cracking', 'swelling only'), 'loss of active material': ('stress-driven', 'none'), 'lithium plating': 'partially reversible'}\",\n",
       " 'Current solvent concentration in the reservoir [mol.m-3]': 4541.0,\n",
       " 'Current electrolyte concentration in the reservoir [mol.m-3]': 1000,\n",
       " 'Ratio of Li-ion concentration change in electrolyte consider solvent consumption': 1.0,\n",
       " 'EC initial concentration in electrolyte [mol.m-3]': 4541.0,\n",
       " 'Typical EC concentration in electrolyte [mol.m-3]': 4541.0,\n",
       " 'Negative electrode number of cracks per unit area [m-2]': 3180000000000000.0,\n",
       " 'Initial inner SEI thickness [m]': 1.23625e-08,\n",
       " 'Initial outer SEI thickness [m]': 1.23625e-08,\n",
       " 'Negative electrode porosity': 0.222393,\n",
       " 'Lithium plating kinetic rate constant [m.s-1]': 1e-10,\n",
       " 'Positive electrode LAM constant proportional term [s-1]': 1e-16,\n",
       " 'Outer SEI partial molar volume [m3.mol-1]': 7.2e-05,\n",
       " 'SEI growth activation energy [J.mol-1]': 10000.0,\n",
       " 'Negative cracking growth activation energy [J.mol-1]': 0.0,\n",
       " 'Contact resistance [Ohm]': 0.01,\n",
       " 'Total heat transfer coefficient [W.m-2.K-1]': 20,\n",
       " 'Ratio of lithium moles to SEI moles': 2.0}"
      ]
     },
     "execution_count": 61,
     "metadata": {},
     "output_type": "execute_result"
    }
   ],
   "source": [
    "Para_dict_list[0]"
   ]
  },
  {
   "cell_type": "code",
   "execution_count": 62,
   "metadata": {},
   "outputs": [
    {
     "name": "stdout",
     "output_type": "stream",
     "text": [
      "Successfully create a excel file\n"
     ]
    }
   ],
   "source": [
    "#####################################################################\n",
    "########################  Output  ###################################\n",
    "#####################################################################\n",
    "keys_loc_RPT = [ # MAY WANT TO SELECT AGEING CYCLE later\n",
    "    # Default output:\n",
    "    \"x [m]\",\n",
    "    \"x_n [m]\",\n",
    "    \"x_s [m]\",\n",
    "    \"x_p [m]\",\n",
    "    # default: end; \n",
    "    \"CCend Porosity\",\n",
    "    \"CCend Negative electrode interfacial current density [A.m-2]\",\n",
    "    \"CCend Electrolyte potential [V]\",\n",
    "    \"CCend Electrolyte concentration [mol.m-3]\",\n",
    "    \"CCend Negative electrode reaction overpotential [V]\",\n",
    "    \"CCend Negative particle surface concentration [mol.m-3]\",\n",
    "    #\"CCend Negative electrode roughness ratio\",\n",
    "    #\"CCend Total SEI on cracks thickness [m]\",\n",
    "\n",
    "    \"CDend Porosity\",\n",
    "    \"CDend Negative electrode interfacial current density [A.m-2]\",\n",
    "    \"CDend Electrolyte potential [V]\",\n",
    "    \"CDend Electrolyte concentration [mol.m-3]\",\n",
    "    \"CDend Negative electrode reaction overpotential [V]\",\n",
    "    \"CDend Negative particle surface concentration [mol.m-3]\",\n",
    "    #\"CDend Negative electrode roughness ratio\",\n",
    "    #\"CDend Total SEI on cracks thickness [m]\",\n",
    "    #\"REend Total SEI on cracks thickness [m]\",\n",
    "]\n",
    "keys_tim_RPT = [\n",
    "    # default: CD\n",
    "    \"CD Time [h]\",\n",
    "    \"CD Terminal voltage [V]\",\n",
    "    #\"RE Terminal voltage [V]\",\n",
    "]\n",
    "keys_cyc_RPT = [   # default: CDend\n",
    "    \"Discharge capacity [A.h]\",\n",
    "    \"Throughput capacity [A.h]\",\n",
    "    \"CDend Total lithium capacity in particles [A.h]\",\n",
    "    \"CDend Loss of capacity to lithium plating [A.h]\",\n",
    "    \"CDend Loss of capacity to SEI [A.h]\",\n",
    "    \"CDend Loss of capacity to SEI on cracks [A.h]\",\n",
    "    #\"CDend X-averaged total SEI on cracks thickness [m]\",\n",
    "    #\"CDend X-averaged negative electrode roughness ratio\",\n",
    "    \"CDend Local ECM resistance [Ohm]\",\n",
    "    \"CDsta Negative electrode stoichiometry\", \n",
    "    \"CDend Negative electrode stoichiometry\",\n",
    "    \"CDsta Positive electrode stoichiometry\", \n",
    "    \"CDend Positive electrode stoichiometry\",\n",
    "    \"CDend Negative electrode capacity [A.h]\",\n",
    "    \"CDend Positive electrode capacity [A.h]\",\n",
    "]\n",
    "\n",
    "keys_loc_AGE = [ # MAY WANT TO SELECT AGEING CYCLE later\n",
    "    # Default output:\n",
    "    \"x [m]\",\n",
    "    \"x_n [m]\",\n",
    "    \"x_s [m]\",\n",
    "    \"x_p [m]\",\n",
    "    # default: end; \n",
    "    \"CCend Porosity\",\n",
    "    \"CCend Negative electrode interfacial current density [A.m-2]\",\n",
    "    \"CCend Electrolyte potential [V]\",\n",
    "    \"CCend Electrolyte concentration [mol.m-3]\",\n",
    "    \"CCend Negative electrode reaction overpotential [V]\",\n",
    "    \"CCend Negative particle surface concentration [mol.m-3]\",\n",
    "    #\"CCend Negative electrode roughness ratio\",\n",
    "    #\"CCend Total SEI on cracks thickness [m]\",\n",
    "\n",
    "    \"CDend Porosity\",\n",
    "    \"CDend Negative electrode interfacial current density [A.m-2]\",\n",
    "    \"CDend Electrolyte potential [V]\",\n",
    "    \"CDend Electrolyte concentration [mol.m-3]\",\n",
    "    \"CDend Negative electrode reaction overpotential [V]\",\n",
    "    \"CDend Negative particle surface concentration [mol.m-3]\",\n",
    "    #\"CDend Negative electrode roughness ratio\",\n",
    "    #\"CDend Total SEI on cracks thickness [m]\",\n",
    "    \"CDend Electrolyte diffusivity [m2.s-1]\",\n",
    "    \"CDend Electrolyte conductivity [S.m-1]\",\n",
    "]\n",
    "keys_tim_AGE = [];\n",
    "keys_cyc_AGE = [];\n",
    "keys_all_RPT = [keys_loc_RPT,keys_tim_RPT,keys_cyc_RPT];\n",
    "keys_all_AGE = [keys_loc_AGE,keys_tim_AGE,keys_cyc_AGE];\n",
    "keys_all = [keys_all_RPT,keys_all_AGE];\n",
    "\n",
    "# Write para - 1st round:\n",
    "Values_1 = []\n",
    "head_keys = list(Para_dict_list[0].keys())\n",
    "head_pre = [\n",
    "    \"Scan No\",\"Y or N\",\n",
    "    \"Error %\",\"Punish\",\n",
    "    \"Dry out\",]\n",
    "head_pos = [ \n",
    "   \"exp_AGE_text\", \"exp_RPT_text\",\n",
    "   \"SOH [%]\",\"LLI [%]\",\"LLI to LiP [%]\",\n",
    "   \"LLI to SEI [%]\",\"LLI to sei-on-cracks [%]\",\n",
    "   \"LLI due to LAM [%]\",\"LAM_to_Crack_NE [%]\",\"LAM_to_Crack_PE [%]\",\n",
    "   \"LAM_to_Dry [%]\",\"Error\"]\n",
    "\n",
    "Values_1 .append([*head_pre,*head_keys,*head_pos])\n",
    "book_name_xlsx = f'Summary_{purpose}.xlsx';\n",
    "sheet_name_xlsx = 'Output'\n",
    "Target  = f'/{purpose}/'\n",
    "if not os.path.exists(BasicPath +Target):\n",
    "    os.mkdir(BasicPath +Target);\n",
    "write_excel_xlsx(\n",
    "    BasicPath + Target + book_name_xlsx, \n",
    "    sheet_name_xlsx, Values_1)   \n",
    "Exp_pack =[\n",
    "    exp_AGE_text,exp_RPT_text,exp_breakin_text,\n",
    "    step_AGE_CD,step_AGE_CC,step_AGE_CV,\n",
    "    step_0p1C_CD ,step_0p1C_CC,step_0p1C_RE,\n",
    "    cycle_no,book_name_xlsx,\n",
    "    ] \n",
    "if not os.path.exists(BasicPath +Target+\"Mats\"):\n",
    "    os.mkdir(BasicPath +Target +\"Mats\");\n",
    "if not os.path.exists(BasicPath +Target+\"Plots\"):\n",
    "    os.mkdir(BasicPath +Target+\"Plots\");\n",
    "if not os.path.exists(BasicPath +Target+\"Excel\"):\n",
    "    os.mkdir(BasicPath +Target+\"Excel\");"
   ]
  },
  {
   "cell_type": "code",
   "execution_count": 63,
   "metadata": {},
   "outputs": [
    {
     "name": "stderr",
     "output_type": "stream",
     "text": [
      "Your own print statement\n",
      "Your own print statement\n",
      "Your own print statement\n",
      "Your own print statement\n",
      "Your own print statement\n",
      "Your own print statement\n",
      "Your own print statement\n",
      "Start Now! Scan 9.\n",
      "Start Now! Scan 9.\n",
      "Start Now! Scan 9.\n",
      "Start Now! Scan 9.\n",
      "Start Now! Scan 9.\n",
      "Start Now! Scan 9.\n",
      "Start Now! Scan 9.\n",
      "Scan 9: DryOut = On\n",
      "Scan 9: DryOut = On\n",
      "Scan 9: DryOut = On\n",
      "Scan 9: DryOut = On\n",
      "Scan 9: DryOut = On\n",
      "Scan 9: DryOut = On\n",
      "Scan 9: DryOut = On\n",
      "Scan 9: Spent 33.857 ms on Initialization\n",
      "Scan 9: Spent 33.857 ms on Initialization\n",
      "Scan 9: Spent 33.857 ms on Initialization\n",
      "Scan 9: Spent 33.857 ms on Initialization\n",
      "Scan 9: Spent 33.857 ms on Initialization\n",
      "Scan 9: Spent 33.857 ms on Initialization\n",
      "Scan 9: Spent 33.857 ms on Initialization\n"
     ]
    },
    {
     "name": "stdout",
     "output_type": "stream",
     "text": [
      "Initial electrolyte amount is  5.1261558457200005 mL\n"
     ]
    },
    {
     "name": "stderr",
     "output_type": "stream",
     "text": [
      "Scan 9: Finish break-in cycle within 33.715 s\n",
      "Scan 9: Finish break-in cycle within 33.715 s\n",
      "Scan 9: Finish break-in cycle within 33.715 s\n",
      "Scan 9: Finish break-in cycle within 33.715 s\n",
      "Scan 9: Finish break-in cycle within 33.715 s\n",
      "Scan 9: Finish break-in cycle within 33.715 s\n",
      "Scan 9: Finish break-in cycle within 33.715 s\n",
      "Scan 9: Finish post-process for break-in cycle within 1.101 s\n",
      "Scan 9: Finish post-process for break-in cycle within 1.101 s\n",
      "Scan 9: Finish post-process for break-in cycle within 1.101 s\n",
      "Scan 9: Finish post-process for break-in cycle within 1.101 s\n",
      "Scan 9: Finish post-process for break-in cycle within 1.101 s\n",
      "Scan 9: Finish post-process for break-in cycle within 1.101 s\n",
      "Scan 9: Finish post-process for break-in cycle within 1.101 s\n",
      "At t = 317.353 and h = 5.01829e-11, the corrector convergence failed repeatedly or with |h| = hmin.\n",
      "Scan 9: Finish for No.0 ageing cycles within 12.026 s\n",
      "Scan 9: Finish for No.0 ageing cycles within 12.026 s\n",
      "Scan 9: Finish for No.0 ageing cycles within 12.026 s\n",
      "Scan 9: Finish for No.0 ageing cycles within 12.026 s\n",
      "Scan 9: Finish for No.0 ageing cycles within 12.026 s\n",
      "Scan 9: Finish for No.0 ageing cycles within 12.026 s\n",
      "Scan 9: Finish for No.0 ageing cycles within 12.026 s\n"
     ]
    },
    {
     "name": "stdout",
     "output_type": "stream",
     "text": [
      "Succeed to run the ageing set for 1 cycles the 1th time\n"
     ]
    },
    {
     "name": "stderr",
     "output_type": "stream",
     "text": [
      "Scan 9: Finish post-process for No.1 ageing cycles within 330.919 ms\n",
      "Scan 9: Finish post-process for No.1 ageing cycles within 330.919 ms\n",
      "Scan 9: Finish post-process for No.1 ageing cycles within 330.919 ms\n",
      "Scan 9: Finish post-process for No.1 ageing cycles within 330.919 ms\n",
      "Scan 9: Finish post-process for No.1 ageing cycles within 330.919 ms\n",
      "Scan 9: Finish post-process for No.1 ageing cycles within 330.919 ms\n",
      "Scan 9: Finish post-process for No.1 ageing cycles within 330.919 ms\n"
     ]
    },
    {
     "name": "stdout",
     "output_type": "stream",
     "text": [
      "Electrolyte is being squeezed out, check plated lithium (active and dead)\n"
     ]
    },
    {
     "name": "stderr",
     "output_type": "stream",
     "text": [
      "Scan 9: Finish for No.1 RPT cycles within 34.446 s\n",
      "Scan 9: Finish for No.1 RPT cycles within 34.446 s\n",
      "Scan 9: Finish for No.1 RPT cycles within 34.446 s\n",
      "Scan 9: Finish for No.1 RPT cycles within 34.446 s\n",
      "Scan 9: Finish for No.1 RPT cycles within 34.446 s\n",
      "Scan 9: Finish for No.1 RPT cycles within 34.446 s\n",
      "Scan 9: Finish for No.1 RPT cycles within 34.446 s\n"
     ]
    },
    {
     "name": "stdout",
     "output_type": "stream",
     "text": [
      "Succeed to run RPT for the 1th time\n"
     ]
    },
    {
     "name": "stderr",
     "output_type": "stream",
     "text": [
      "Scan 9: Finish post-process for No.1 RPT cycles within 790.166 ms\n",
      "Scan 9: Finish post-process for No.1 RPT cycles within 790.166 ms\n",
      "Scan 9: Finish post-process for No.1 RPT cycles within 790.166 ms\n",
      "Scan 9: Finish post-process for No.1 RPT cycles within 790.166 ms\n",
      "Scan 9: Finish post-process for No.1 RPT cycles within 790.166 ms\n",
      "Scan 9: Finish post-process for No.1 RPT cycles within 790.166 ms\n",
      "Scan 9: Finish post-process for No.1 RPT cycles within 790.166 ms\n",
      "At t = 315.675 and h = 2.69209e-12, the corrector convergence failed repeatedly or with |h| = hmin.\n",
      "Scan 9: Finish for No.1 ageing cycles within 12.553 s\n",
      "Scan 9: Finish for No.1 ageing cycles within 12.553 s\n",
      "Scan 9: Finish for No.1 ageing cycles within 12.553 s\n",
      "Scan 9: Finish for No.1 ageing cycles within 12.553 s\n",
      "Scan 9: Finish for No.1 ageing cycles within 12.553 s\n",
      "Scan 9: Finish for No.1 ageing cycles within 12.553 s\n",
      "Scan 9: Finish for No.1 ageing cycles within 12.553 s\n"
     ]
    },
    {
     "name": "stdout",
     "output_type": "stream",
     "text": [
      "Succeed to run the ageing set for 1 cycles the 1th time\n"
     ]
    },
    {
     "name": "stderr",
     "output_type": "stream",
     "text": [
      "Scan 9: Finish post-process for No.2 ageing cycles within 269.105 ms\n",
      "Scan 9: Finish post-process for No.2 ageing cycles within 269.105 ms\n",
      "Scan 9: Finish post-process for No.2 ageing cycles within 269.105 ms\n",
      "Scan 9: Finish post-process for No.2 ageing cycles within 269.105 ms\n",
      "Scan 9: Finish post-process for No.2 ageing cycles within 269.105 ms\n",
      "Scan 9: Finish post-process for No.2 ageing cycles within 269.105 ms\n",
      "Scan 9: Finish post-process for No.2 ageing cycles within 269.105 ms\n"
     ]
    },
    {
     "name": "stdout",
     "output_type": "stream",
     "text": [
      "Electrolyte is being squeezed out, check plated lithium (active and dead)\n"
     ]
    },
    {
     "name": "stderr",
     "output_type": "stream",
     "text": [
      "Scan 9: Finish for No.2 RPT cycles within 38.258 s\n",
      "Scan 9: Finish for No.2 RPT cycles within 38.258 s\n",
      "Scan 9: Finish for No.2 RPT cycles within 38.258 s\n",
      "Scan 9: Finish for No.2 RPT cycles within 38.258 s\n",
      "Scan 9: Finish for No.2 RPT cycles within 38.258 s\n",
      "Scan 9: Finish for No.2 RPT cycles within 38.258 s\n",
      "Scan 9: Finish for No.2 RPT cycles within 38.258 s\n"
     ]
    },
    {
     "name": "stdout",
     "output_type": "stream",
     "text": [
      "Succeed to run RPT for the 1th time\n"
     ]
    },
    {
     "name": "stderr",
     "output_type": "stream",
     "text": [
      "Scan 9: Finish post-process for No.2 RPT cycles within 800.956 ms\n",
      "Scan 9: Finish post-process for No.2 RPT cycles within 800.956 ms\n",
      "Scan 9: Finish post-process for No.2 RPT cycles within 800.956 ms\n",
      "Scan 9: Finish post-process for No.2 RPT cycles within 800.956 ms\n",
      "Scan 9: Finish post-process for No.2 RPT cycles within 800.956 ms\n",
      "Scan 9: Finish post-process for No.2 RPT cycles within 800.956 ms\n",
      "Scan 9: Finish post-process for No.2 RPT cycles within 800.956 ms\n",
      "Scan 9: Getting extra variables within 313.200 us\n",
      "Scan 9: Getting extra variables within 313.200 us\n",
      "Scan 9: Getting extra variables within 313.200 us\n",
      "Scan 9: Getting extra variables within 313.200 us\n",
      "Scan 9: Getting extra variables within 313.200 us\n",
      "Scan 9: Getting extra variables within 313.200 us\n",
      "Scan 9: Getting extra variables within 313.200 us\n",
      "Scan 9: Finish all plots within 4.684 s\n",
      "Scan 9: Finish all plots within 4.684 s\n",
      "Scan 9: Finish all plots within 4.684 s\n",
      "Scan 9: Finish all plots within 4.684 s\n",
      "Scan 9: Finish all plots within 4.684 s\n",
      "Scan 9: Finish all plots within 4.684 s\n",
      "Scan 9: Finish all plots within 4.684 s\n",
      "Scan 9: Encounter problems when saving json file!\n",
      "Scan 9: Encounter problems when saving json file!\n",
      "Scan 9: Encounter problems when saving json file!\n",
      "Scan 9: Encounter problems when saving json file!\n",
      "Scan 9: Encounter problems when saving json file!\n",
      "Scan 9: Encounter problems when saving json file!\n",
      "Scan 9: Encounter problems when saving json file!\n",
      "Scan 9: Successfully save mat file!\n",
      "Scan 9: Successfully save mat file!\n",
      "Scan 9: Successfully save mat file!\n",
      "Scan 9: Successfully save mat file!\n",
      "Scan 9: Successfully save mat file!\n",
      "Scan 9: Successfully save mat file!\n",
      "Scan 9: Successfully save mat file!\n",
      "Scan 9: Try saving within 39.551 ms\n",
      "Scan 9: Try saving within 39.551 ms\n",
      "Scan 9: Try saving within 39.551 ms\n",
      "Scan 9: Try saving within 39.551 ms\n",
      "Scan 9: Try saving within 39.551 ms\n",
      "Scan 9: Try saving within 39.551 ms\n",
      "Scan 9: Try saving within 39.551 ms\n",
      "Succeed doing something in 2 minutes, 19 seconds\n",
      "Succeed doing something in 2 minutes, 19 seconds\n",
      "Succeed doing something in 2 minutes, 19 seconds\n",
      "Succeed doing something in 2 minutes, 19 seconds\n",
      "Succeed doing something in 2 minutes, 19 seconds\n",
      "Succeed doing something in 2 minutes, 19 seconds\n",
      "Succeed doing something in 2 minutes, 19 seconds\n",
      "This is the end of No. 9 scan\n",
      "This is the end of No. 9 scan\n",
      "This is the end of No. 9 scan\n",
      "This is the end of No. 9 scan\n",
      "This is the end of No. 9 scan\n",
      "This is the end of No. 9 scan\n",
      "This is the end of No. 9 scan\n"
     ]
    },
    {
     "name": "stdout",
     "output_type": "stream",
     "text": [
      "Successfully create a excel file\n"
     ]
    },
    {
     "data": {
      "text/plain": [
       "' if __name__ == \"__main__\":\\n    pool = multiprocessing.Pool(int(pool_no))\\n    processes = [\\n    pool.apply_async(\\n        Run_model, \\n        args=(\\n            Para_dict_i,BasicPath, XY_Exp, \\n            purpose,    Exp_pack, keys_all,dpi,fs,\\n            flag_RunOneCyc,   Plot_Exp,Timeout,Return_Sol,\\n            Check_Small_Time\\n        ) )\\n        for Para_dict_i in Para_dict_list]\\n    Result = [p.get() for p in processes]  \\n\\nfor result in Result:\\n    midc_merge_all.append(result[0])\\n    Sol_RPT_all.append(result[1])\\n    Sol_AGE_all.append(result[2]) \\n'"
      ]
     },
     "execution_count": 63,
     "metadata": {},
     "output_type": "execute_result"
    }
   ],
   "source": [
    "midc_merge_all = [];Sol_RPT_all = [];Sol_AGE_all = [];\n",
    "Plot_Exp=True;     Timeout=False;  flag_RunOneCyc = False\n",
    "Return_Sol=True;   Check_Small_Time=True;\n",
    "fs = 13; dpi = 100;\n",
    "\n",
    "midc_merge,Sol_RPT,Sol_AGE,Call_Age= Run_model (\n",
    "    Para_dict_list[0],BasicPath, XY_Exp, \n",
    "    purpose,    Exp_pack, keys_all,dpi,fs,\n",
    "    Runshort,   flag_RunOneCyc,   Plot_Exp,Timeout,Return_Sol,\n",
    "    Check_Small_Time\n",
    ") \n",
    "\n",
    "\"\"\" if __name__ == \"__main__\":\n",
    "    pool = multiprocessing.Pool(int(pool_no))\n",
    "    processes = [\n",
    "    pool.apply_async(\n",
    "        Run_model, \n",
    "        args=(\n",
    "            Para_dict_i,BasicPath, XY_Exp, \n",
    "            purpose,    Exp_pack, keys_all,dpi,fs,\n",
    "            flag_RunOneCyc,   Plot_Exp,Timeout,Return_Sol,\n",
    "            Check_Small_Time\n",
    "        ) )\n",
    "        for Para_dict_i in Para_dict_list]\n",
    "    Result = [p.get() for p in processes]  \n",
    "\n",
    "for result in Result:\n",
    "    midc_merge_all.append(result[0])\n",
    "    Sol_RPT_all.append(result[1])\n",
    "    Sol_AGE_all.append(result[2]) \n",
    "\"\"\""
   ]
  },
  {
   "cell_type": "code",
   "execution_count": 64,
   "metadata": {},
   "outputs": [
    {
     "name": "stdout",
     "output_type": "stream",
     "text": [
      "Successfuly write results for Scan 9!\n",
      "Something goes wrong for Scan 10!\n",
      "Something goes wrong for Scan 11!\n",
      "Something goes wrong for Scan 12!\n"
     ]
    }
   ],
   "source": [
    "# Write summary into excel\n",
    "Index_List_succeed = index_list\n",
    "for k,index_i in enumerate(Index_List_succeed):\n",
    "    #print(index_i)\n",
    "    try:\n",
    "        old_book = str(index_i) + '_' + book_name_xlsx\n",
    "        #print(old_book)\n",
    "        #open excel:\n",
    "        data_old = openpyxl.load_workbook(\n",
    "            BasicPath + Target+ \"Excel/\" + old_book)   \n",
    "        data_tar = openpyxl.load_workbook(\n",
    "            BasicPath + Target + book_name_xlsx) \n",
    "\n",
    "        table_old = data_old[str(index_i)]\n",
    "        nrows_old = table_old.max_row  # 获得行数\n",
    "        ncolumns_old = table_old.max_column  # 获得列数\n",
    "\n",
    "        table_tar = data_tar[sheet_name_xlsx]\n",
    "        nrows_tar = table_tar.max_row # ncolumns_old + k +1 # Mark!!! Most important changes!\n",
    "        ncolumns_old = table_old.max_column  # 获得列数\n",
    "        list_old = [];\n",
    "        #print(nrows_old,nrows_tar)\n",
    "        for i in range(1,nrows_old+1):\n",
    "            for j in range(1,ncolumns_old+1):\n",
    "                list_old.append(table_old.cell(row=i,column=j).value)\n",
    "        \n",
    "        list_old = [list_old,]\n",
    "        for i in range(1, len(list_old)+1):\n",
    "                for j in range(1, len(list_old[i-1])+1):\n",
    "                    #print(i,j,list_old[i-1][j-1]    )\n",
    "                    table_tar.cell(nrows_tar+i, j).value = list_old[i-1][j-1]     \n",
    "        data_tar.save(BasicPath + Target + book_name_xlsx) \n",
    "        data_tar.close()\n",
    "    except:\n",
    "        print(f\"Something goes wrong for Scan {index_i}!\")\n",
    "    else:\n",
    "        print(f\"Successfuly write results for Scan {index_i}!\") \n",
    "\n"
   ]
  },
  {
   "cell_type": "code",
   "execution_count": 65,
   "metadata": {},
   "outputs": [],
   "source": [
    "midc_merge[\"CDend Loss of capacity to SEI on cracks [A.h]\"]\n",
    "def Get_Model_DMA(my_dict_RPT):\n",
    "    my_dict_RPT[\"CDend LAM_ne [%]\"] = ((1-\n",
    "            np.array(my_dict_RPT['CDend Negative electrode capacity [A.h]'])\n",
    "            /my_dict_RPT['CDend Negative electrode capacity [A.h]'][0])*100).tolist()\n",
    "    my_dict_RPT[\"CDend LAM_pe [%]\"] = ((1-\n",
    "        np.array(my_dict_RPT['CDend Positive electrode capacity [A.h]'])\n",
    "        /my_dict_RPT['CDend Positive electrode capacity [A.h]'][0])*100).tolist()\n",
    "    my_dict_RPT[\"CDend LLI [%]\"] = ((1-\n",
    "        np.array(my_dict_RPT[\"CDend Total lithium capacity in particles [A.h]\"])\n",
    "        /my_dict_RPT[\"CDend Total lithium capacity in particles [A.h]\"][0])*100).tolist()\n",
    "\n",
    "    my_dict_RPT[\"CDend LLI SEI [%]\"] = ((\n",
    "        np.array(\n",
    "            my_dict_RPT[\"CDend Loss of capacity to SEI [A.h]\"]-\n",
    "            my_dict_RPT[\"CDend Loss of capacity to SEI [A.h]\"][0]\n",
    "            )\n",
    "        /my_dict_RPT[\"CDend Total lithium capacity in particles [A.h]\"][0])*100).tolist()\n",
    "\n",
    "    my_dict_RPT[\"CDend LLI SEI on cracks [%]\"] = ((\n",
    "        np.array(\n",
    "            my_dict_RPT[\"CDend Loss of capacity to SEI on cracks [A.h]\"]-\n",
    "            my_dict_RPT[\"CDend Loss of capacity to SEI on cracks [A.h]\"][0]\n",
    "            )\n",
    "        /my_dict_RPT[\"CDend Total lithium capacity in particles [A.h]\"][0])*100).tolist()\n",
    "\n",
    "    my_dict_RPT[\"CDend LLI lithium plating [%]\"] = ((\n",
    "        np.array(\n",
    "            my_dict_RPT[\"CDend Loss of capacity to lithium plating [A.h]\"]-\n",
    "            my_dict_RPT[\"CDend Loss of capacity to lithium plating [A.h]\"][0]\n",
    "            )\n",
    "        /my_dict_RPT[\"CDend Total lithium capacity in particles [A.h]\"][0])*100).tolist()\n",
    "    my_dict_RPT[\"CDend LLI due to LAM [%]\"] = (\n",
    "        np.array(my_dict_RPT['CDend LLI [%]'])\n",
    "        -my_dict_RPT[\"CDend LLI SEI [%]\"]\n",
    "        -my_dict_RPT[\"CDend LLI lithium plating [%]\"]\n",
    "        -my_dict_RPT[\"CDend LLI SEI on cracks [%]\"] )\n",
    "    return my_dict_RPT\n",
    "midc_merge = Get_Model_DMA(midc_merge)"
   ]
  },
  {
   "cell_type": "code",
   "execution_count": 66,
   "metadata": {},
   "outputs": [
    {
     "name": "stdout",
     "output_type": "stream",
     "text": [
      "0.12080038717930108 8.59486892501593e-06 4.1744385725905886e-14\n"
     ]
    }
   ],
   "source": [
    "LAM_to_Dry   = 100-np.array(\n",
    "    midc_merge['Width_all']) /midc_merge['Width_all'][0]*100\n",
    "\n",
    "LAM_to_Dry_i=LAM_to_Dry[-1]\n",
    "LAM_to_Crack_NE_i=midc_merge['CDend LAM_ne [%]'][-1]-LAM_to_Dry_i\n",
    "LAM_to_Crack_PE_i=midc_merge['CDend LAM_pe [%]'][-1]-LAM_to_Dry_i\n",
    "print(LAM_to_Dry_i,LAM_to_Crack_NE_i,LAM_to_Crack_PE_i)"
   ]
  },
  {
   "cell_type": "code",
   "execution_count": 67,
   "metadata": {},
   "outputs": [
    {
     "data": {
      "text/plain": [
       "Text(0, 0.5, 'LLI %')"
      ]
     },
     "execution_count": 67,
     "metadata": {},
     "output_type": "execute_result"
    },
    {
     "data": {
      "image/png": "[encoded data removed]",
      "text/plain": [
       "<Figure size 600x500 with 1 Axes>"
      ]
     },
     "metadata": {},
     "output_type": "display_data"
    }
   ],
   "source": [
    "# DMA component:\n",
    "fig, ax = plt.subplots(figsize=(6,5),tight_layout=True) \n",
    "# \"SEI\":               midc_merge[\"CDend LLI SEI [%]\"]\n",
    "# \"SEI on cracks\":     midc_merge[\"CDend LLI SEI on cracks [%]\"]\n",
    "# \"Li plating\":        midc_merge[\"CDend LLI lithium plating [%]\"] \n",
    "# \"LAM\":               midc_merge[\"CDend LLI due to LAM [%]\"]\n",
    "def adjust_category_names(categories):\n",
    "    return ['\\n'.join(category.split()) if len(category) > 12 else category for category in categories]\n",
    "\n",
    "categories = ['SEI', 'SEI on cracks', 'Li plating', 'LAM (cracking and dry-out)']\n",
    "adjusted_categories = adjust_category_names(categories)\n",
    "colors = ['#6baed6', '#74c476', '#fd8d3c', '#9e9ac8']\n",
    "values = [\n",
    "    midc_merge[\"CDend LLI SEI [%]\"][-1], \n",
    "    midc_merge[\"CDend LLI SEI on cracks [%]\"][-1], \n",
    "    midc_merge[\"CDend LLI lithium plating [%]\"][-1] , \n",
    "    midc_merge[\"CDend LLI due to LAM [%]\"][-1]   ]\n",
    "\n",
    "# Creating the bar plot\n",
    "plt.bar(adjusted_categories, values, color= colors,width=0.45 )\n",
    "\n",
    "# Adding title and labels\n",
    "#plt.title('Sample Bar Plot')\n",
    "#plt.xlabel('Categories')\n",
    "plt.ylabel('LLI %')\n"
   ]
  },
  {
   "cell_type": "code",
   "execution_count": 68,
   "metadata": {},
   "outputs": [
    {
     "data": {
      "text/plain": [
       "Text(0, 0.5, 'LAM PE %')"
      ]
     },
     "execution_count": 68,
     "metadata": {},
     "output_type": "execute_result"
    },
    {
     "data": {
      "image/png": "[encoded data removed]",
      "text/plain": [
       "<Figure size 1200x450 with 2 Axes>"
      ]
     },
     "metadata": {},
     "output_type": "display_data"
    }
   ],
   "source": [
    "fig, axs = plt.subplots(1,2, figsize=(12,4.5),tight_layout=True) \n",
    "width = 0.45\n",
    "categories = ['Dry out', 'Stress',]\n",
    "values_ne = [LAM_to_Dry_i,LAM_to_Crack_NE_i]\n",
    "values_pe = [LAM_to_Dry_i,LAM_to_Crack_PE_i]\n",
    "axs[0].bar(categories, values_ne, width )\n",
    "axs[1].bar(categories, values_pe, width )\n",
    "axs[0].set_ylabel(\"LAM NE %\")\n",
    "axs[1].set_ylabel(\"LAM PE %\")"
   ]
  },
  {
   "cell_type": "markdown",
   "metadata": {},
   "source": [
    "### Script from GEM to get the target figures:\n"
   ]
  },
  {
   "cell_type": "code",
   "execution_count": 69,
   "metadata": {},
   "outputs": [
    {
     "ename": "NameError",
     "evalue": "name 'Full_Exp2_GoodFit' is not defined",
     "output_type": "error",
     "traceback": [
      "\u001b[0;31m---------------------------------------------------------------------------\u001b[0m",
      "\u001b[0;31mNameError\u001b[0m                                 Traceback (most recent call last)",
      "Cell \u001b[0;32mIn[69], line 2\u001b[0m\n\u001b[1;32m      1\u001b[0m \u001b[38;5;66;03m# - LLI  due to SEI, SEI on crack, LiP and dry-out\u001b[39;00m\n\u001b[0;32m----> 2\u001b[0m case \u001b[38;5;241m=\u001b[39m \u001b[43mFull_Exp2_GoodFit\u001b[49m\n\u001b[1;32m      3\u001b[0m LLI_to_SEI_allTs\u001b[38;5;241m=\u001b[39m[];        LLI_to_Dry_allTs \u001b[38;5;241m=\u001b[39m[]; \n\u001b[1;32m      4\u001b[0m LLI_to_SEIcr_allTs \u001b[38;5;241m=\u001b[39m [];    LLI_to_LiP_allTs \u001b[38;5;241m=\u001b[39m[]; \n",
      "\u001b[0;31mNameError\u001b[0m: name 'Full_Exp2_GoodFit' is not defined"
     ]
    }
   ],
   "source": [
    "# - LLI  due to SEI, SEI on crack, LiP and dry-out\n",
    "case = Full_Exp2_GoodFit\n",
    "LLI_to_SEI_allTs=[];        LLI_to_Dry_allTs =[]; \n",
    "LLI_to_SEIcr_allTs = [];    LLI_to_LiP_allTs =[]; \n",
    "fig, axs = plt.subplots(1,3, figsize=(15,4),tight_layout=True) \n",
    "\n",
    "fig, ax = plt.subplots(figsize=(8,4),tight_layout=True) \n",
    "X_labels = (\n",
    "    r\"10$^\\circ$C\",  #axs[i].set_title(f\"T={T_deg}\"+r\"$^\\circ$C\")\n",
    "    r\"25$^\\circ$C\",\n",
    "    r\"40$^\\circ$C\",\n",
    ")\n",
    "LLI_Components = {\n",
    "    \"SEI\":     np.array(LLI_to_SEI_allTs),\n",
    "    \"SEI on cracks\":     np.array(LLI_to_SEIcr_allTs),\n",
    "    \"Li plating\":     np.array(LLI_to_LiP_allTs),\n",
    "    \"LAM\": np.array(LLI_to_Dry_allTs),\n",
    "}\n",
    "width = 0.45\n",
    "\n",
    "bottom = np.zeros(3)\n",
    "i=0\n",
    "for key, weight_count in LLI_Components.items():\n",
    "    p = ax.bar(X_labels, weight_count, width, label=key, bottom=bottom,color=Default_Colors_Alpha[i])\n",
    "    bottom += weight_count\n",
    "    i += 1\n",
    "\n",
    "legend = ax.legend(loc='center left', bbox_to_anchor=(1, 0.5))\n",
    "ax.set_ylabel(\"LLI %\")\n",
    "plt.savefig(\n",
    "    target_folder + f\"/Full LLI break down.png\", dpi=800)\n",
    "plt.savefig(\n",
    "    target_folder + f\"/Full LLI break down.svg\")  "
   ]
  },
  {
   "cell_type": "code",
   "execution_count": null,
   "metadata": {},
   "outputs": [],
   "source": [
    "# plot break down of LAM for Full \n",
    "# LAM - due to cracking; due to dry-out\n",
    "case = Full_Exp2_GoodFit\n",
    "LAM_to_Crack_NE_allTs=[];        LAM_to_Dry_allTs =[];  LAM_to_Crack_PE_allTs=[];  \n",
    "\n",
    "for i,T_deg in enumerate([10,25,40]):\n",
    "    LAM_to_Dry   = 100-np.array(case[str(T_deg)]['Width_all'])/case[str(T_deg)]['Width_all'][0]*100\n",
    "\n",
    "    LAM_to_Dry_allTs.append(LAM_to_Dry[-1])\n",
    "    LAM_to_Crack_NE_allTs.append(case[str(T_deg)]['CDend LAM_ne [%]'][-1]-LAM_to_Dry[-1])\n",
    "    LAM_to_Crack_PE_allTs.append(case[str(T_deg)]['CDend LAM_pe [%]'][-1]-LAM_to_Dry[-1])\n",
    "print(LAM_to_Crack_NE_allTs)\n",
    "print(LAM_to_Crack_PE_allTs)\n",
    "print(LAM_to_Dry_allTs)\n",
    "LAM_NE_Components = {\n",
    "    \"Dry-out\": np.array(LAM_to_Dry_allTs),\n",
    "    \"Stress\":     np.array(LAM_to_Crack_NE_allTs),}\n",
    "LAM_PE_Components = {\n",
    "    \"Dry-out\": np.array(LAM_to_Dry_allTs),\n",
    "    \"Stress\":     np.array(LAM_to_Crack_PE_allTs),}\n",
    "Labels = [\"LAM NE %\",\"LAM PE %\"]\n",
    "fig, axs = plt.subplots(1,2, figsize=(12,4.5),tight_layout=True) \n",
    "width = 0.45\n",
    "\n",
    "LAM_Components_All = [LAM_NE_Components,LAM_PE_Components]\n",
    "for k,LAM_Components in enumerate(LAM_Components_All):\n",
    "    i=0;  bottom = np.zeros(3)\n",
    "    for key, weight_count in LAM_Components.items():\n",
    "        p = axs[k].bar(X_labels, weight_count, width, label=key, bottom=bottom,color=Default_Colors_Alpha[i])\n",
    "        bottom += weight_count\n",
    "        i += 1\n",
    "    axs[k].set_ylim(0,12.5) # Labels\n",
    "    axs[k].set_ylabel(Labels[k])\n",
    "legend = axs[0].legend(loc='best',frameon=False)\n",
    "plt.savefig(\n",
    "    target_folder + f\"/Full LAM break down.png\", dpi=dpi)\n",
    "plt.savefig(\n",
    "    target_folder + f\"/Full LAM break down.svg\") "
   ]
  }
 ],
 "metadata": {
  "kernelspec": {
   "display_name": "EnvPB_Linux",
   "language": "python",
   "name": "python3"
  },
  "language_info": {
   "codemirror_mode": {
    "name": "ipython",
    "version": 3
   },
   "file_extension": ".py",
   "mimetype": "text/x-python",
   "name": "python",
   "nbconvert_exporter": "python",
   "pygments_lexer": "ipython3",
   "version": "3.10.12"
  },
  "orig_nbformat": 4
 },
 "nbformat": 4,
 "nbformat_minor": 2
}
