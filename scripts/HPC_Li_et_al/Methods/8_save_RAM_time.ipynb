{
 "cells": [
  {
   "cell_type": "markdown",
   "id": "c7c4d28d",
   "metadata": {},
   "source": [
    "## This notebook show how to save memory and time"
   ]
  },
  {
   "cell_type": "code",
   "execution_count": null,
   "id": "33688122",
   "metadata": {},
   "outputs": [],
   "source": [
    "from memory_profiler import profile\n",
    "\n",
    "# instantiating the decorator\n",
    "@profile\n",
    "# code for which memory has to\n",
    "# be monitored\n",
    "def my_func():\n",
    "\tx = [x for x in range(0, 1000)]\n",
    "\ty = [y*100 for y in range(0, 1500)]\n",
    "\tdel x\n",
    "\treturn y\n",
    "\n",
    "if __name__ == '__main__':\n",
    "    my_func()"
   ]
  },
  {
   "cell_type": "code",
   "execution_count": 9,
   "id": "72f8f813",
   "metadata": {},
   "outputs": [],
   "source": [
    "import matplotlib.pyplot as plt\n",
    "import numpy as np\n",
    "import pybamm\n",
    "import pandas as pd"
   ]
  },
  {
   "cell_type": "code",
   "execution_count": 10,
   "id": "ef6a28f9",
   "metadata": {},
   "outputs": [],
   "source": [
    "exp_text = [(\n",
    "    \"Hold at 4.2V until C/100\", \n",
    "    \"Discharge at 1C until 2.5V\", \n",
    "    \"Rest for 1 hours\", \n",
    "    \"Charge at 1C until 4.2V\", \n",
    ")]\n",
    "param = pybamm.ParameterValues(\"OKane2022\")\n",
    "param.update({\"Inner SEI lithium interstitial diffusivity [m2.s-1]\": 3.5e-19})  \n"
   ]
  },
  {
   "cell_type": "code",
   "execution_count": 11,
   "id": "7d053c74",
   "metadata": {},
   "outputs": [
    {
     "name": "stdout",
     "output_type": "stream",
     "text": [
      "running time is 17.127 s\n"
     ]
    }
   ],
   "source": [
    "def Run_model_1st(exp_text,param,save_at_cycles,var_pts,):\n",
    "    \n",
    "    model = pybamm.lithium_ion.DFN(options={\n",
    "        \"SEI\": \"interstitial-diffusion limited\", \n",
    "        \"SEI film resistance\": \"distributed\", \n",
    "        \"SEI porosity change\": \"true\",})\n",
    "    exp = pybamm.Experiment( exp_text*save_at_cycles )\n",
    "    sim = pybamm.Simulation(\n",
    "        model, \n",
    "        experiment=exp,\n",
    "        parameter_values=param,\n",
    "        solver=pybamm.CasadiSolver(return_solution_if_failed_early=True),\n",
    "        var_pts=var_pts,\n",
    "    )\n",
    "    sol = sim.solve(save_at_cycles=save_at_cycles,calc_esoh=False)\n",
    "    \n",
    "    return sol,model\n",
    "\n",
    "def Run_model_later(model_old, sol_old, exp_text,param, save_at_cycles,var_pts,):\n",
    "    model = model_old.set_initial_conditions_from(sol_old, inplace=False)\n",
    "    exp = pybamm.Experiment( exp_text*save_at_cycles )\n",
    "    sim = pybamm.Simulation(\n",
    "        model, \n",
    "        experiment=exp,\n",
    "        parameter_values=param,\n",
    "        solver=pybamm.CasadiSolver(return_solution_if_failed_early=True),\n",
    "        var_pts=var_pts,\n",
    "    )\n",
    "    sol = sim.solve(save_at_cycles=save_at_cycles,calc_esoh=False)\n",
    "    return sol,model\n",
    "\n",
    "def Post_processing(sol,cyc,step):\n",
    "    time = (\n",
    "        sol.cycles[cyc].steps[step][\"Time [h]\"].entries \n",
    "        -\n",
    "        sol.cycles[cyc].steps[step][\"Time [h]\"].entries[0] )\n",
    "    v = sol.cycles[cyc].steps[step][\"Terminal voltage [V]\"].entries\n",
    "    return time, v\n",
    "\n",
    "def Run_Big_Model(exp_text,param,save_at_cycles,var_pts,total_cycles,return_sol):\n",
    "    start_1 = pybamm.Timer()\n",
    "    Time = []; Voltage = []; Cyc_count = []; Sol_all = []\n",
    "    i=1; n = total_cycles / save_at_cycles\n",
    "    # Run the first N cycles:\n",
    "    sol,model = Run_model_1st(exp_text,param,save_at_cycles,var_pts,)\n",
    "    if return_sol == True:\n",
    "        Sol_all.append(sol)\n",
    "    time, v = Post_processing(sol,0,1)\n",
    "    Cyc_count.append(i+1)\n",
    "    Time.append(time)\n",
    "    Voltage.append(v)\n",
    "    time, v = Post_processing(sol,-1,1)\n",
    "    Cyc_count.append(save_at_cycles)\n",
    "    Time.append(time)\n",
    "    Voltage.append(v)\n",
    "    while i<n:\n",
    "        sol,model = Run_model_later(model, sol, exp_text,param, save_at_cycles,var_pts,)\n",
    "        if return_sol == True:\n",
    "            Sol_all.append(sol)\n",
    "        time, v = Post_processing(sol,-1,1)\n",
    "        Time.append(time)\n",
    "        Voltage.append(v)\n",
    "        Cyc_count.append(save_at_cycles*i)\n",
    "        i += 1\n",
    "    print(f'running time is {start_1.time()}')\n",
    "    return Time, Voltage, Cyc_count,Sol_all\n",
    "\n",
    "var_pts={\"x_n\": 5, \"x_s\": 5,\"x_p\": 5, \"r_n\": 30, \"r_p\": 20, }\n",
    "save_at_cycles = 3; total_cycles = 9\n"
   ]
  },
  {
   "cell_type": "code",
   "execution_count": null,
   "id": "2b056b0a",
   "metadata": {},
   "outputs": [],
   "source": [
    "Time_2, Voltage_2, Cyc_count_2,Sol_all_2 = Run_Big_Model(\n",
    "    exp_text,param,save_at_cycles,var_pts,total_cycles,return_sol=False)"
   ]
  },
  {
   "cell_type": "code",
   "execution_count": null,
   "id": "aa088b3b",
   "metadata": {},
   "outputs": [],
   "source": [
    "#### record-1:\n",
    "var_pts={\"x_n\": 5, \"x_s\": 5,\"x_p\": 5, \"r_n\": 30, \"r_p\": 20, }\n",
    "save_at_cycles = 3; total_cycles = 9\n",
    "\n",
    "running time is 56.980 s\n",
    "Filename: /home/ruihe_li/EnvPB_Linux/PyBaMM/scripts/Ruihe_HPC/Strategies/test_ram.py\n",
    "\n",
    "Line     Mem usage    Increment  Occurrences   Line Contents\n",
    "=============================================================\n",
    "    90    195.3 MiB    195.3 MiB           1   @profile\n",
    "    91                                         def Main():\n",
    "    92    299.3 MiB    104.1 MiB           2       Time, Voltage, Cyc_count,Sol_all = Run_Big_Model(\n",
    "    93    195.3 MiB      0.0 MiB           1           exp_text,param,save_at_cycles,var_pts,\n",
    "    94    195.3 MiB      0.0 MiB           1           total_cycles,return_sol=False)"
   ]
  },
  {
   "cell_type": "markdown",
   "metadata": {},
   "source": [
    "#### record-2:\n",
    "var_pts={\"x_n\": 5, \"x_s\": 5,\"x_p\": 5, \"r_n\": 30, \"r_p\": 20, }\n",
    "save_at_cycles = 3; total_cycles = 9\n",
    "\n",
    "running time is 56.560 s\n",
    "Filename: /home/ruihe_li/EnvPB_Linux/PyBaMM/scripts/Ruihe_HPC/Strategies/test_ram.py\n",
    "\n",
    "Line #    Mem usage    Increment  Occurrences   Line Contents\n",
    "=============================================================\n",
    "    90    201.4 MiB    201.4 MiB           1   @profile\n",
    "    91                                         def Main():\n",
    "    92    307.7 MiB    106.3 MiB           2       Time, Voltage, Cyc_count,Sol_all = Run_Big_Model(\n",
    "    93    201.4 MiB      0.0 MiB           1           exp_text,param,save_at_cycles,var_pts,\n",
    "    94    201.4 MiB      0.0 MiB           1           total_cycles,return_sol=True)"
   ]
  },
  {
   "cell_type": "markdown",
   "id": "21723869",
   "metadata": {},
   "source": [
    "#### record-3:\n",
    "var_pts={\"x_n\": 5, \"x_s\": 5,\"x_p\": 5, \"r_n\": 30, \"r_p\": 20, }\n",
    "save_at_cycles = 100; total_cycles = 1000\n",
    "\n",
    "running time is 18 minutes, 38 seconds\n",
    "Filename: /home/ruihe_li/EnvPB_Linux/PyBaMM/scripts/Ruihe_HPC/Strategies/test_ram.py\n",
    "\n",
    "Line #    Mem usage    Increment  Occurrences   Line Contents\n",
    "=============================================================\n",
    "    90    203.5 MiB    203.5 MiB           1   @profile\n",
    "    91                                         def Main():\n",
    "    92    363.5 MiB    160.0 MiB           2       Time, Voltage, Cyc_count,Sol_all = Run_Big_Model(\n",
    "    93    203.5 MiB      0.0 MiB           1           exp_text,param,save_at_cycles,var_pts,\n",
    "    94    203.5 MiB      0.0 MiB           1           total_cycles,return_sol=False)"
   ]
  },
  {
   "cell_type": "markdown",
   "id": "eca862ff",
   "metadata": {},
   "source": [
    "#### record-4:\n",
    "\n",
    "var_pts={\"x_n\": 5, \"x_s\": 5,\"x_p\": 5, \"r_n\": 30, \"r_p\": 20, }\n",
    "save_at_cycles = 100; total_cycles = 1000\n",
    "\n",
    "running time is 17 minutes, 43 seconds\n",
    "Filename: /home/ruihe_li/EnvPB_Linux/PyBaMM/scripts/Ruihe_HPC/Strategies/test_ram.py\n",
    "\n",
    "Line #    Mem usage    Increment  Occurrences   Line Contents\n",
    "=============================================================\n",
    "    90    201.3 MiB    201.3 MiB           1   @profile\n",
    "    91                                         def Main():\n",
    "    92    625.8 MiB    424.6 MiB           2       Time, Voltage, Cyc_count,Sol_all = Run_Big_Model(\n",
    "    93    201.3 MiB      0.0 MiB           1           exp_text,param,save_at_cycles,var_pts,\n",
    "    94    201.3 MiB      0.0 MiB           1           total_cycles,return_sol=True)"
   ]
  },
  {
   "cell_type": "markdown",
   "id": "a60ad671",
   "metadata": {},
   "source": [
    "#### record-5:\n",
    "\n",
    "var_pts={\"x_n\": 5, \"x_s\": 5,\"x_p\": 5, \"r_n\": 30, \"r_p\": 20, }\n",
    "save_at_cycles = 5; total_cycles = 1000\n",
    "\n",
    "running time is 1 hour, 1 minute, 1 second\n",
    "Filename: /home/ruihe_li/EnvPB_Linux/PyBaMM/scripts/Ruihe_HPC/Strategies/test_ram.py\n",
    "\n",
    "Line #    Mem usage    Increment  Occurrences   Line Contents\n",
    "=============================================================\n",
    "    90    203.6 MiB    203.6 MiB           1   @profile\n",
    "    91                                         def Main():\n",
    "    92    324.7 MiB    121.1 MiB           2       Time, Voltage, Cyc_count,Sol_all = Run_Big_Model(\n",
    "    93    203.6 MiB      0.0 MiB           1           exp_text,param,save_at_cycles,var_pts,\n",
    "    94    203.6 MiB      0.0 MiB           1           total_cycles,return_sol=False)"
   ]
  },
  {
   "cell_type": "markdown",
   "id": "7e7569db",
   "metadata": {},
   "source": [
    "#### record-6:\n",
    "\n",
    "var_pts={\"x_n\": 5, \"x_s\": 5,\"x_p\": 5, \"r_n\": 30, \"r_p\": 20, }\n",
    "save_at_cycles = 5; total_cycles = 1000\n",
    "\n",
    "running time is 56 minutes, 23 seconds\n",
    "Filename: /home/ruihe_li/EnvPB_Linux/PyBaMM/scripts/Ruihe_HPC/Strategies/test_ram.py\n",
    "\n",
    "Line #    Mem usage    Increment  Occurrences   Line Contents\n",
    "=============================================================\n",
    "    90    193.4 MiB    193.4 MiB           1   @profile\n",
    "    91                                         def Main():\n",
    "    92   4887.2 MiB   4693.9 MiB           2       Time, Voltage, Cyc_count,Sol_all = Run_Big_Model(\n",
    "    93    193.4 MiB      0.0 MiB           1           exp_text,param,save_at_cycles,var_pts,\n",
    "    94    193.4 MiB      0.0 MiB           1           total_cycles,return_sol=True)\n"
   ]
  }
 ],
 "metadata": {
  "kernelspec": {
   "display_name": "Python 3 (ipykernel)",
   "language": "python",
   "name": "python3"
  },
  "language_info": {
   "codemirror_mode": {
    "name": "ipython",
    "version": 3
   },
   "file_extension": ".py",
   "mimetype": "text/x-python",
   "name": "python",
   "nbconvert_exporter": "python",
   "pygments_lexer": "ipython3",
   "version": "3.10.6"
  }
 },
 "nbformat": 4,
 "nbformat_minor": 5
}
