{
 "cells": [
  {
   "cell_type": "markdown",
   "id": "c7c4d28d",
   "metadata": {},
   "source": [
    "### This notebook showed that if we try to charge the cell at 100%SOC, PyBaMM will skip that step and give an empty solution. In other software, it may return an error or says the experiment is infeasible."
   ]
  },
  {
   "cell_type": "code",
   "execution_count": 1,
   "id": "72f8f813",
   "metadata": {},
   "outputs": [],
   "source": [
    "import matplotlib.pyplot as plt\n",
    "import numpy as np\n",
    "import pybamm\n",
    "import pandas as pd"
   ]
  },
  {
   "cell_type": "code",
   "execution_count": 2,
   "id": "7d053c74",
   "metadata": {},
   "outputs": [],
   "source": [
    "model = pybamm.lithium_ion.DFN()\n",
    "param = pybamm.ParameterValues(\"OKane2022\")\n",
    "param.update({\"Upper voltage cut-off [V]\": 4.21})\n",
    "param.update({\"Lower voltage cut-off [V]\": 2.49})\n",
    "exp = pybamm.Experiment(\n",
    "    [\n",
    "        \"Hold at 4.2V until C/100\", \n",
    "        \"Rest for 1 hours (5 minute period)\", ] )\n",
    "var_pts = {\n",
    "    \"x_n\": 5,  # negative electrode\n",
    "    \"x_s\": 5,  # separator \n",
    "    \"x_p\": 5,  # positive electrode\n",
    "    \"r_n\": 60,  # negative particle\n",
    "    \"r_p\": 30,  # positive particle\n",
    "}"
   ]
  },
  {
   "cell_type": "code",
   "execution_count": 3,
   "id": "e07b49f1",
   "metadata": {},
   "outputs": [
    {
     "name": "stdout",
     "output_type": "stream",
     "text": [
      "running time: 1.5674792000208981s\n"
     ]
    }
   ],
   "source": [
    "sim1 = pybamm.Simulation(\n",
    "    model, \n",
    "    experiment=exp,\n",
    "    parameter_values=param,\n",
    "    solver=pybamm.CasadiSolver(),\n",
    "    var_pts=var_pts,\n",
    ")\n",
    "solution1 = sim1.solve(calc_esoh=False)"
   ]
  },
  {
   "cell_type": "markdown",
   "id": "e9f797e0",
   "metadata": {},
   "source": [
    "the cell is now at 100%SOC, if we want to charge further, it will return an empty solution"
   ]
  },
  {
   "cell_type": "code",
   "execution_count": 4,
   "id": "5f0b5e30",
   "metadata": {},
   "outputs": [],
   "source": [
    "exp_2 = pybamm.Experiment([( \n",
    "    \"Charge at 0.3C until 4.2V\", #  (5 minute period) \n",
    "    \"Hold at 4.2V until C/100 (5 minute period)\",\n",
    "    ),] )\n",
    "model_2 = model.set_initial_conditions_from(solution1, inplace=True)\n",
    "sim2 = pybamm.Simulation(\n",
    "    model_2, \n",
    "    experiment=exp_2,\n",
    "    parameter_values=param,\n",
    "    solver=pybamm.CasadiSolver(return_solution_if_failed_early=True),\n",
    "    var_pts=var_pts,\n",
    ")\n",
    "sol2 = sim2.solve(calc_esoh=False)"
   ]
  },
  {
   "cell_type": "code",
   "execution_count": 6,
   "id": "07635471",
   "metadata": {},
   "outputs": [
    {
     "data": {
      "text/plain": [
       "[<pybamm.solvers.solution.EmptySolution at 0x7f320ee5f6a0>,\n",
       " <pybamm.solvers.solution.Solution at 0x7f320f0aec50>]"
      ]
     },
     "execution_count": 6,
     "metadata": {},
     "output_type": "execute_result"
    }
   ],
   "source": [
    "sol2.cycles[0].steps"
   ]
  },
  {
   "cell_type": "markdown",
   "id": "008cad2e",
   "metadata": {},
   "source": [
    "which means what if we try to acess the result in steps-0, an error will occur"
   ]
  },
  {
   "cell_type": "code",
   "execution_count": 7,
   "id": "cfda1fcd",
   "metadata": {},
   "outputs": [
    {
     "ename": "TypeError",
     "evalue": "'EmptySolution' object is not subscriptable",
     "output_type": "error",
     "traceback": [
      "\u001b[0;31m---------------------------------------------------------------------------\u001b[0m",
      "\u001b[0;31mTypeError\u001b[0m                                 Traceback (most recent call last)",
      "Cell \u001b[0;32mIn[7], line 1\u001b[0m\n\u001b[0;32m----> 1\u001b[0m V \u001b[39m=\u001b[39m sol2\u001b[39m.\u001b[39;49mcycles[\u001b[39m0\u001b[39;49m]\u001b[39m.\u001b[39;49msteps[\u001b[39m0\u001b[39;49m][\u001b[39m\"\u001b[39;49m\u001b[39mTerminal voltage [V]\u001b[39;49m\u001b[39m\"\u001b[39;49m]\u001b[39m.\u001b[39mentries\n",
      "\u001b[0;31mTypeError\u001b[0m: 'EmptySolution' object is not subscriptable"
     ]
    }
   ],
   "source": [
    "V = sol2.cycles[0].steps[0][\"Terminal voltage [V]\"].entries"
   ]
  }
 ],
 "metadata": {
  "kernelspec": {
   "display_name": "Python 3 (ipykernel)",
   "language": "python",
   "name": "python3"
  },
  "language_info": {
   "codemirror_mode": {
    "name": "ipython",
    "version": 3
   },
   "file_extension": ".py",
   "mimetype": "text/x-python",
   "name": "python",
   "nbconvert_exporter": "python",
   "pygments_lexer": "ipython3",
   "version": "3.10.6"
  }
 },
 "nbformat": 4,
 "nbformat_minor": 5
}
