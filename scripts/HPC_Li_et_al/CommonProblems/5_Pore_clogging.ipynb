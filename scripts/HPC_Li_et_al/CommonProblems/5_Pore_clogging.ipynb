{
 "cells": [
  {
   "cell_type": "markdown",
   "id": "c7c4d28d",
   "metadata": {},
   "source": [
    "## This notebook reproduce pore clogging due to too quick SEI layer growth"
   ]
  },
  {
   "cell_type": "code",
   "execution_count": 27,
   "id": "72f8f813",
   "metadata": {},
   "outputs": [],
   "source": [
    "import matplotlib.pyplot as plt\n",
    "import numpy as np\n",
    "import pybamm\n",
    "import pandas as pd"
   ]
  },
  {
   "cell_type": "code",
   "execution_count": 28,
   "id": "7d053c74",
   "metadata": {},
   "outputs": [],
   "source": [
    "model = pybamm.lithium_ion.DFN(options={\n",
    "    \"SEI\": \"interstitial-diffusion limited\", \n",
    "    \"SEI on cracks\": \"true\",\n",
    "    \"particle mechanics\": \"swelling and cracking\",\n",
    "    \"SEI film resistance\": \"distributed\", \n",
    "    \"SEI porosity change\": \"true\",})\n",
    "param = pybamm.ParameterValues(\"OKane2022\")\n",
    "param.update({\"Inner SEI lithium interstitial diffusivity [m2.s-1]\": 3.5e-16})  \n",
    "exp = pybamm.Experiment([(\n",
    "    \"Hold at 4.2V until C/100\", \n",
    "    \"Discharge at 1C until 2.5V\", \n",
    "    \"Rest for 1 hours\", \n",
    "    \"Charge at 1C until 4.2V\", \n",
    ")] *5 )\n",
    "var_pts = {\n",
    "    \"x_n\": 10,  # negative electrode\n",
    "    \"x_s\": 10,  # separator \n",
    "    \"x_p\": 10,  # positive electrode\n",
    "    \"r_n\": 30,  # negative particle\n",
    "    \"r_p\": 20,  # positive particle\n",
    "}"
   ]
  },
  {
   "cell_type": "code",
   "execution_count": 29,
   "id": "e07b49f1",
   "metadata": {},
   "outputs": [
    {
     "name": "stderr",
     "output_type": "stream",
     "text": [
      "At t = 534.618, , mxstep steps taken before reaching tout.\n",
      "At t = 488.629, , mxstep steps taken before reaching tout.\n",
      "The linesearch algorithm failed with too small a step.\n",
      "The linesearch algorithm failed with too small a step.\n",
      "The linesearch algorithm failed with too small a step.\n",
      "The linesearch algorithm failed with too small a step.\n",
      "The linesearch algorithm failed with too small a step.\n",
      "The linesearch algorithm failed with too small a step.\n",
      "2023-08-28 21:17:10.962 - [ERROR] callbacks.on_experiment_error(224): Simulation error: Maximum number of decreased steps occurred at t=40535.46333172852 (final SolverError: 'Error in Function::call for 'F' [IdasInterface] at .../casadi/core/function.cpp:1401:\n",
      "Error in Function::call for 'F' [IdasInterface] at .../casadi/core/function.cpp:330:\n",
      ".../casadi/interfaces/sundials/idas_interface.cpp:596: IDACalcIC returned \"IDA_LINESEARCH_FAIL\". Consult IDAS documentation.'). For a full solution try reducing dt_max (currently, dt_max=600) and/or reducing the size of the time steps or period of the experiment. Set `return_solution_if_failed_early=True` to return the solution object up to the point where failure occured.\n"
     ]
    }
   ],
   "source": [
    "sim1 = pybamm.Simulation(\n",
    "    model, \n",
    "    experiment=exp,\n",
    "    parameter_values=param,\n",
    "    solver=pybamm.CasadiSolver(return_solution_if_failed_early=True),\n",
    "    var_pts=var_pts,\n",
    ")\n",
    "sol1 = sim1.solve(calc_esoh=False)"
   ]
  },
  {
   "cell_type": "code",
   "execution_count": 30,
   "id": "e36da21c",
   "metadata": {},
   "outputs": [
    {
     "data": {
      "text/plain": [
       "[<pybamm.solvers.solution.Solution at 0x7fe072bb07c0>,\n",
       " <pybamm.solvers.solution.Solution at 0x7fe072703fd0>,\n",
       " <pybamm.solvers.solution.Solution at 0x7fe072281270>,\n",
       " <pybamm.solvers.solution.Solution at 0x7fe0723b51e0>]"
      ]
     },
     "execution_count": 30,
     "metadata": {},
     "output_type": "execute_result"
    }
   ],
   "source": [
    "sol1.cycles"
   ]
  },
  {
   "cell_type": "code",
   "execution_count": 32,
   "id": "6d04d3f6",
   "metadata": {},
   "outputs": [
    {
     "data": {
      "application/vnd.jupyter.widget-view+json": {
       "model_id": "394976e1272e4cb9a85a378b2e7c8cca",
       "version_major": 2,
       "version_minor": 0
      },
      "text/plain": [
       "interactive(children=(FloatSlider(value=0.0, description='t', max=11.259850925479867, step=0.11259850925479867…"
      ]
     },
     "metadata": {},
     "output_type": "display_data"
    }
   ],
   "source": [
    "Vars = [\n",
    "    \"Negative electrode porosity\",\n",
    "    \"Terminal voltage [V]\",\n",
    "]\n",
    "quick_plot = pybamm.QuickPlot(sol1, Vars,variable_limits='fixed') #     \n",
    "quick_plot.dynamic_plot();"
   ]
  }
 ],
 "metadata": {
  "kernelspec": {
   "display_name": "Python 3 (ipykernel)",
   "language": "python",
   "name": "python3"
  },
  "language_info": {
   "codemirror_mode": {
    "name": "ipython",
    "version": 3
   },
   "file_extension": ".py",
   "mimetype": "text/x-python",
   "name": "python",
   "nbconvert_exporter": "python",
   "pygments_lexer": "ipython3",
   "version": "3.10.6"
  }
 },
 "nbformat": 4,
 "nbformat_minor": 5
}
