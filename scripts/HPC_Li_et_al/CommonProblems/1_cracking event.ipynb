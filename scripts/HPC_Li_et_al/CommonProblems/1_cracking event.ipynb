{
 "cells": [
  {
   "cell_type": "markdown",
   "id": "c7c4d28d",
   "metadata": {},
   "source": [
    "### This notebook reproduce an event: Experiment is infeasible: 'event: negative particle crack length larger than particle radius'. It seems until now that this cannot be resolved by increasing mesh points in R direction, but can be resolved by reducing cracking rate"
   ]
  },
  {
   "cell_type": "code",
   "execution_count": 58,
   "id": "72f8f813",
   "metadata": {},
   "outputs": [],
   "source": [
    "import pybamm\n",
    "import matplotlib.pyplot as plt\n",
    "import numpy as np;  \n",
    "import pandas as pd\n",
    "import timeit\n",
    "start = timeit.default_timer()"
   ]
  },
  {
   "cell_type": "code",
   "execution_count": 59,
   "id": "7d053c74",
   "metadata": {},
   "outputs": [],
   "source": [
    "model = pybamm.lithium_ion.DFN(\n",
    "    options={\n",
    "    \"SEI\": \"interstitial-diffusion limited\", \n",
    "    \"SEI on cracks\": \"true\",\n",
    "    \"particle mechanics\": \"swelling and cracking\",\n",
    "    \"SEI film resistance\": \"distributed\", \n",
    "    \"SEI porosity change\": \"true\",\n",
    "})"
   ]
  },
  {
   "cell_type": "code",
   "execution_count": 60,
   "id": "a29d2eec",
   "metadata": {},
   "outputs": [],
   "source": [
    "param = pybamm.ParameterValues(\"OKane2022\")\n",
    "param.update({'Negative electrode cracking rate': 5e-15})\n",
    "var_pts = {\n",
    "    \"x_n\": 5,  # negative electrode\n",
    "    \"x_s\": 5,  # separator \n",
    "    \"x_p\": 5,  # positive electrode\n",
    "    \"r_n\": 60,  # negative particle\n",
    "    \"r_p\": 20,  # positive particle\n",
    "}"
   ]
  },
  {
   "cell_type": "code",
   "execution_count": 61,
   "id": "943156ae",
   "metadata": {},
   "outputs": [],
   "source": [
    "total_cycles=8\n",
    "param.update({'Negative electrode cracking rate': 2.8e-16})\n",
    "exp = pybamm.Experiment( \n",
    "    [(\n",
    "    \"Discharge at 1C until 2.5V\", \n",
    "    \"Charge at 0.3C until 4.2V\", \n",
    "    \"Hold at 4.2V until C/100\",\n",
    "    ),] * total_cycles \n",
    ")"
   ]
  },
  {
   "cell_type": "code",
   "execution_count": 62,
   "id": "e07b49f1",
   "metadata": {},
   "outputs": [
    {
     "name": "stderr",
     "output_type": "stream",
     "text": [
      "At t = 473.369 and h = 3.60802e-14, the corrector convergence failed repeatedly or with |h| = hmin.\n",
      "At t = 233.369 and h = 4.87395e-14, the corrector convergence failed repeatedly or with |h| = hmin.\n",
      "At t = 113.369 and h = 2.3805e-18, the corrector convergence failed repeatedly or with |h| = hmin.\n",
      "2023-08-28 11:43:56.471 - [WARNING] callbacks.on_experiment_infeasible(231): \n",
      "\n",
      "\tExperiment is infeasible: 'event: negative particle crack length larger than particle radius' was triggered during 'Discharge at 1C until 2.5V'. The returned solution only contains up to step 1 of cycle 8. \n"
     ]
    },
    {
     "name": "stdout",
     "output_type": "stream",
     "text": [
      "running time: 15.165938499965705s\n"
     ]
    }
   ],
   "source": [
    "sim1 = pybamm.Simulation(\n",
    "    model, \n",
    "    experiment=exp,\n",
    "    parameter_values=param,\n",
    "    solver=pybamm.CasadiSolver(\n",
    "        return_solution_if_failed_early=True,),\n",
    "    var_pts=var_pts,\n",
    ")\n",
    "solution1 = sim1.solve(calc_esoh=False)\n",
    "stop = timeit.default_timer()\n",
    "print('running time: ' + str(stop - start) +'s')"
   ]
  },
  {
   "cell_type": "markdown",
   "id": "23684b6d",
   "metadata": {},
   "source": [
    "If we reduce the cracking rate, the problem will be resolved"
   ]
  },
  {
   "cell_type": "code",
   "execution_count": 63,
   "id": "fbd2afb4",
   "metadata": {},
   "outputs": [
    {
     "name": "stderr",
     "output_type": "stream",
     "text": [
      "At t = 473.37, , mxstep steps taken before reaching tout.\n",
      "At t = 233.37, , mxstep steps taken before reaching tout.\n",
      "At t = 113.37 and h = 3.02027e-14, the corrector convergence failed repeatedly or with |h| = hmin.\n"
     ]
    }
   ],
   "source": [
    "param.update({'Negative electrode cracking rate': 2.8e-17})\n",
    "sim1 = pybamm.Simulation(\n",
    "    model, \n",
    "    experiment=exp,\n",
    "    parameter_values=param,\n",
    "    solver=pybamm.CasadiSolver(\n",
    "        return_solution_if_failed_early=True,),\n",
    "    var_pts=var_pts,\n",
    ")\n",
    "solution1 = sim1.solve(calc_esoh=False)"
   ]
  },
  {
   "cell_type": "markdown",
   "id": "20690331",
   "metadata": {},
   "source": [
    "Alternatively, we can increase negative electrode diffusivity. This is because cracking is determiend by both cracking rate and concentration gradient. Increasing diffusivity can reduce concentration gradient. "
   ]
  },
  {
   "cell_type": "code",
   "execution_count": 64,
   "id": "56e882f3",
   "metadata": {},
   "outputs": [
    {
     "name": "stderr",
     "output_type": "stream",
     "text": [
      "At t = 535.22 and h = 2.12029e-14, the corrector convergence failed repeatedly or with |h| = hmin.\n",
      "At t = 144.264 and h = 2.61363e-14, the corrector convergence failed repeatedly or with |h| = hmin.\n",
      "At t = 144.264 and h = 5.10505e-14, the corrector convergence failed repeatedly or with |h| = hmin.\n",
      "At t = 144.185 and h = 2.50788e-14, the corrector convergence failed repeatedly or with |h| = hmin.\n",
      "At t = 144.185, , mxstep steps taken before reaching tout.\n",
      "At t = 144.124 and h = 2.99657e-14, the corrector convergence failed repeatedly or with |h| = hmin.\n",
      "At t = 144.124 and h = 6.7446e-15, the corrector convergence failed repeatedly or with |h| = hmin.\n",
      "At t = 144.073 and h = 1.49902e-14, the corrector convergence failed repeatedly or with |h| = hmin.\n",
      "At t = 144.073 and h = 1.4192e-14, the corrector convergence failed repeatedly or with |h| = hmin.\n",
      "At t = 144.027 and h = 2.65414e-14, the corrector convergence failed repeatedly or with |h| = hmin.\n",
      "At t = 144.027, repeated recoverable residual errors.\n",
      "At t = 143.986 and h = 1.94036e-14, the corrector convergence failed repeatedly or with |h| = hmin.\n",
      "At t = 143.986 and h = 1.63526e-14, the corrector convergence failed repeatedly or with |h| = hmin.\n",
      "At t = 143.947 and h = 1.04002e-13, the corrector convergence failed repeatedly or with |h| = hmin.\n",
      "At t = 143.947 and h = 2.33463e-14, the corrector convergence failed repeatedly or with |h| = hmin.\n"
     ]
    }
   ],
   "source": [
    "param.update({'Negative electrode cracking rate': 2.8e-16})\n",
    "param.update({\"Negative electrode diffusivity [m2.s-1]\": 3.3e-13})\n",
    "sim1 = pybamm.Simulation(\n",
    "    model, \n",
    "    experiment=exp,\n",
    "    parameter_values=param,\n",
    "    solver=pybamm.CasadiSolver(\n",
    "        return_solution_if_failed_early=True,),\n",
    "    var_pts=var_pts,\n",
    ")\n",
    "solution1 = sim1.solve(calc_esoh=False)"
   ]
  },
  {
   "cell_type": "markdown",
   "id": "c620a7e4",
   "metadata": {},
   "source": [
    "However, this event cannot be resolved by increasing mesh points in R direction."
   ]
  },
  {
   "cell_type": "code",
   "execution_count": 65,
   "id": "eaaafcb3",
   "metadata": {},
   "outputs": [
    {
     "name": "stderr",
     "output_type": "stream",
     "text": [
      "At t = 473.357, , mxstep steps taken before reaching tout.\n",
      "At t = 233.357 and h = 2.16731e-14, the corrector convergence failed repeatedly or with |h| = hmin.\n",
      "At t = 113.357 and h = 5.60958e-14, the corrector convergence failed repeatedly or with |h| = hmin.\n",
      "2023-08-28 11:45:46.779 - [WARNING] callbacks.on_experiment_infeasible(231): \n",
      "\n",
      "\tExperiment is infeasible: 'event: negative particle crack length larger than particle radius' was triggered during 'Discharge at 1C until 2.5V'. The returned solution only contains up to step 1 of cycle 8. \n"
     ]
    }
   ],
   "source": [
    "param.update({'Negative electrode cracking rate': 2.8e-16})\n",
    "param.update({\"Negative electrode diffusivity [m2.s-1]\": 3.3e-14})\n",
    "var_pts = {\n",
    "    \"x_n\": 5,  # negative electrode\n",
    "    \"x_s\": 5,  # separator \n",
    "    \"x_p\": 5,  # positive electrode\n",
    "    \"r_n\": 100,  # negative particle\n",
    "    \"r_p\": 20,  # positive particle\n",
    "}\n",
    "sim1 = pybamm.Simulation(\n",
    "    model, \n",
    "    experiment=exp,\n",
    "    parameter_values=param,\n",
    "    solver=pybamm.CasadiSolver(\n",
    "        return_solution_if_failed_early=True,),\n",
    "    var_pts=var_pts,\n",
    ")\n",
    "solution1 = sim1.solve(calc_esoh=False)"
   ]
  },
  {
   "cell_type": "markdown",
   "id": "2c871524",
   "metadata": {},
   "source": [
    "one may think 100 is still not enough. However, if we give r_n=200, then it will give a solver error"
   ]
  },
  {
   "cell_type": "code",
   "execution_count": 66,
   "id": "6a6213b0",
   "metadata": {},
   "outputs": [
    {
     "name": "stderr",
     "output_type": "stream",
     "text": [
      "The residual function failed at the first call. \n",
      "The residual function failed at the first call. \n",
      "The residual function failed at the first call. \n",
      "The residual function failed at the first call. \n",
      "The residual function failed at the first call. \n",
      "The residual function failed at the first call. \n",
      "2023-08-28 11:46:33.169 - [ERROR] callbacks.on_experiment_error(224): Simulation error: Maximum number of decreased steps occurred at t=0.0 (final SolverError: 'Error in Function::call for 'F' [IdasInterface] at .../casadi/core/function.cpp:1401:\n",
      "Error in Function::call for 'F' [IdasInterface] at .../casadi/core/function.cpp:330:\n",
      ".../casadi/interfaces/sundials/idas_interface.cpp:596: IDACalcIC returned \"IDA_FIRST_RES_FAIL\". Consult IDAS documentation.'). For a full solution try reducing dt_max (currently, dt_max=600) and/or reducing the size of the time steps or period of the experiment. Set `return_solution_if_failed_early=True` to return the solution object up to the point where failure occured.\n"
     ]
    },
    {
     "ename": "SolverError",
     "evalue": "Maximum number of decreased steps occurred at t=0.0 (final SolverError: 'Error in Function::call for 'F' [IdasInterface] at .../casadi/core/function.cpp:1401:\nError in Function::call for 'F' [IdasInterface] at .../casadi/core/function.cpp:330:\n.../casadi/interfaces/sundials/idas_interface.cpp:596: IDACalcIC returned \"IDA_FIRST_RES_FAIL\". Consult IDAS documentation.'). For a full solution try reducing dt_max (currently, dt_max=600) and/or reducing the size of the time steps or period of the experiment. Set `return_solution_if_failed_early=True` to return the solution object up to the point where failure occured.",
     "output_type": "error",
     "traceback": [
      "\u001b[0;31m---------------------------------------------------------------------------\u001b[0m",
      "\u001b[0;31mRuntimeError\u001b[0m                              Traceback (most recent call last)",
      "\u001b[0;32m~/EnvPB_Linux/PyBaMM/pybamm/solvers/casadi_solver.py\u001b[0m in \u001b[0;36m?\u001b[0;34m(self, model, y0, inputs_dict, inputs, t_eval, use_grid, extract_sensitivities_in_solution)\u001b[0m\n\u001b[1;32m    685\u001b[0m                 \u001b[0;31m# If it doesn't work raise error\u001b[0m\u001b[0;34m\u001b[0m\u001b[0;34m\u001b[0m\u001b[0m\n\u001b[1;32m    686\u001b[0m                 \u001b[0mpybamm\u001b[0m\u001b[0;34m.\u001b[0m\u001b[0mlogger\u001b[0m\u001b[0;34m.\u001b[0m\u001b[0mdebug\u001b[0m\u001b[0;34m(\u001b[0m\u001b[0;34mf\"Casadi integrator failed with error {error}\"\u001b[0m\u001b[0;34m)\u001b[0m\u001b[0;34m\u001b[0m\u001b[0;34m\u001b[0m\u001b[0m\n\u001b[0;32m--> 687\u001b[0;31m                 \u001b[0;32mraise\u001b[0m \u001b[0mpybamm\u001b[0m\u001b[0;34m.\u001b[0m\u001b[0mSolverError\u001b[0m\u001b[0;34m(\u001b[0m\u001b[0merror\u001b[0m\u001b[0;34m.\u001b[0m\u001b[0margs\u001b[0m\u001b[0;34m[\u001b[0m\u001b[0;36m0\u001b[0m\u001b[0;34m]\u001b[0m\u001b[0;34m)\u001b[0m\u001b[0;34m\u001b[0m\u001b[0;34m\u001b[0m\u001b[0m\n\u001b[0m\u001b[1;32m    688\u001b[0m             \u001b[0mpybamm\u001b[0m\u001b[0;34m.\u001b[0m\u001b[0mlogger\u001b[0m\u001b[0;34m.\u001b[0m\u001b[0mdebug\u001b[0m\u001b[0;34m(\u001b[0m\u001b[0;34m\"Finished casadi integrator\"\u001b[0m\u001b[0;34m)\u001b[0m\u001b[0;34m\u001b[0m\u001b[0;34m\u001b[0m\u001b[0m\n",
      "\u001b[0;32m~/EnvPB_Linux/lib/python3.10/site-packages/casadi/casadi.py\u001b[0m in \u001b[0;36m?\u001b[0;34m(self, *args, **kwargs)\u001b[0m\n\u001b[1;32m  23370\u001b[0m       \u001b[0;32melse\u001b[0m\u001b[0;34m:\u001b[0m\u001b[0;34m\u001b[0m\u001b[0;34m\u001b[0m\u001b[0m\n\u001b[1;32m  23371\u001b[0m     \u001b[0;31m# Named inputs -> return dictionary\u001b[0m\u001b[0;34m\u001b[0m\u001b[0;34m\u001b[0m\u001b[0m\n\u001b[0;32m> 23372\u001b[0;31m         \u001b[0;32mreturn\u001b[0m \u001b[0mself\u001b[0m\u001b[0;34m.\u001b[0m\u001b[0mcall\u001b[0m\u001b[0;34m(\u001b[0m\u001b[0mkwargs\u001b[0m\u001b[0;34m)\u001b[0m\u001b[0;34m\u001b[0m\u001b[0;34m\u001b[0m\u001b[0m\n\u001b[0m",
      "\u001b[0;32m~/EnvPB_Linux/lib/python3.10/site-packages/casadi/casadi.py\u001b[0m in \u001b[0;36m?\u001b[0;34m(self, *args)\u001b[0m\n\u001b[1;32m  20019\u001b[0m \u001b[0;34m\u001b[0m\u001b[0m\n\u001b[1;32m  20020\u001b[0m         \"\"\"\n\u001b[0;32m> 20021\u001b[0;31m         \u001b[0;32mreturn\u001b[0m \u001b[0m_casadi\u001b[0m\u001b[0;34m.\u001b[0m\u001b[0mFunction_call\u001b[0m\u001b[0;34m(\u001b[0m\u001b[0mself\u001b[0m\u001b[0;34m,\u001b[0m \u001b[0;34m*\u001b[0m\u001b[0margs\u001b[0m\u001b[0;34m)\u001b[0m\u001b[0;34m\u001b[0m\u001b[0;34m\u001b[0m\u001b[0m\n\u001b[0m",
      "\u001b[0;31mRuntimeError\u001b[0m: Error in Function::call for 'F' [IdasInterface] at .../casadi/core/function.cpp:1401:\nError in Function::call for 'F' [IdasInterface] at .../casadi/core/function.cpp:330:\n.../casadi/interfaces/sundials/idas_interface.cpp:596: IDACalcIC returned \"IDA_FIRST_RES_FAIL\". Consult IDAS documentation.",
      "\nDuring handling of the above exception, another exception occurred:\n",
      "\u001b[0;31mSolverError\u001b[0m                               Traceback (most recent call last)",
      "File \u001b[0;32m~/EnvPB_Linux/PyBaMM/pybamm/solvers/casadi_solver.py:250\u001b[0m, in \u001b[0;36mCasadiSolver._integrate\u001b[0;34m(self, model, t_eval, inputs_dict)\u001b[0m\n\u001b[1;32m    246\u001b[0m pybamm\u001b[39m.\u001b[39mlogger\u001b[39m.\u001b[39mdebug(\n\u001b[1;32m    247\u001b[0m     \u001b[39m\"\u001b[39m\u001b[39mRunning integrator for \u001b[39m\u001b[39m\"\u001b[39m\n\u001b[1;32m    248\u001b[0m     \u001b[39mf\u001b[39m\u001b[39m\"\u001b[39m\u001b[39m{\u001b[39;00mt_window[\u001b[39m0\u001b[39m]\u001b[39m:\u001b[39;00m\u001b[39m.2f\u001b[39m\u001b[39m}\u001b[39;00m\u001b[39m < t < \u001b[39m\u001b[39m{\u001b[39;00mt_window[\u001b[39m-\u001b[39m\u001b[39m1\u001b[39m]\u001b[39m:\u001b[39;00m\u001b[39m.2f\u001b[39m\u001b[39m}\u001b[39;00m\u001b[39m\"\u001b[39m\n\u001b[1;32m    249\u001b[0m )\n\u001b[0;32m--> 250\u001b[0m current_step_sol \u001b[39m=\u001b[39m \u001b[39mself\u001b[39;49m\u001b[39m.\u001b[39;49m_run_integrator(\n\u001b[1;32m    251\u001b[0m     model,\n\u001b[1;32m    252\u001b[0m     y0,\n\u001b[1;32m    253\u001b[0m     inputs_dict,\n\u001b[1;32m    254\u001b[0m     inputs,\n\u001b[1;32m    255\u001b[0m     t_window,\n\u001b[1;32m    256\u001b[0m     use_grid\u001b[39m=\u001b[39;49muse_grid,\n\u001b[1;32m    257\u001b[0m     extract_sensitivities_in_solution\u001b[39m=\u001b[39;49m\u001b[39mFalse\u001b[39;49;00m,\n\u001b[1;32m    258\u001b[0m )\n\u001b[1;32m    259\u001b[0m first_ts_solved \u001b[39m=\u001b[39m \u001b[39mTrue\u001b[39;00m\n",
      "File \u001b[0;32m~/EnvPB_Linux/PyBaMM/pybamm/solvers/casadi_solver.py:687\u001b[0m, in \u001b[0;36mCasadiSolver._run_integrator\u001b[0;34m(self, model, y0, inputs_dict, inputs, t_eval, use_grid, extract_sensitivities_in_solution)\u001b[0m\n\u001b[1;32m    686\u001b[0m     pybamm\u001b[39m.\u001b[39mlogger\u001b[39m.\u001b[39mdebug(\u001b[39mf\u001b[39m\u001b[39m\"\u001b[39m\u001b[39mCasadi integrator failed with error \u001b[39m\u001b[39m{\u001b[39;00merror\u001b[39m}\u001b[39;00m\u001b[39m\"\u001b[39m)\n\u001b[0;32m--> 687\u001b[0m     \u001b[39mraise\u001b[39;00m pybamm\u001b[39m.\u001b[39mSolverError(error\u001b[39m.\u001b[39margs[\u001b[39m0\u001b[39m])\n\u001b[1;32m    688\u001b[0m pybamm\u001b[39m.\u001b[39mlogger\u001b[39m.\u001b[39mdebug(\u001b[39m\"\u001b[39m\u001b[39mFinished casadi integrator\u001b[39m\u001b[39m\"\u001b[39m)\n",
      "\u001b[0;31mSolverError\u001b[0m: Error in Function::call for 'F' [IdasInterface] at .../casadi/core/function.cpp:1401:\nError in Function::call for 'F' [IdasInterface] at .../casadi/core/function.cpp:330:\n.../casadi/interfaces/sundials/idas_interface.cpp:596: IDACalcIC returned \"IDA_FIRST_RES_FAIL\". Consult IDAS documentation.",
      "\nDuring handling of the above exception, another exception occurred:\n",
      "\u001b[0;31mSolverError\u001b[0m                               Traceback (most recent call last)",
      "Cell \u001b[0;32mIn[66], line 16\u001b[0m\n\u001b[1;32m      1\u001b[0m var_pts \u001b[39m=\u001b[39m {\n\u001b[1;32m      2\u001b[0m     \u001b[39m\"\u001b[39m\u001b[39mx_n\u001b[39m\u001b[39m\"\u001b[39m: \u001b[39m5\u001b[39m,  \u001b[39m# negative electrode\u001b[39;00m\n\u001b[1;32m      3\u001b[0m     \u001b[39m\"\u001b[39m\u001b[39mx_s\u001b[39m\u001b[39m\"\u001b[39m: \u001b[39m5\u001b[39m,  \u001b[39m# separator \u001b[39;00m\n\u001b[0;32m   (...)\u001b[0m\n\u001b[1;32m      6\u001b[0m     \u001b[39m\"\u001b[39m\u001b[39mr_p\u001b[39m\u001b[39m\"\u001b[39m: \u001b[39m20\u001b[39m,  \u001b[39m# positive particle\u001b[39;00m\n\u001b[1;32m      7\u001b[0m }\n\u001b[1;32m      8\u001b[0m sim1 \u001b[39m=\u001b[39m pybamm\u001b[39m.\u001b[39mSimulation(\n\u001b[1;32m      9\u001b[0m     model, \n\u001b[1;32m     10\u001b[0m     experiment\u001b[39m=\u001b[39mexp,\n\u001b[0;32m   (...)\u001b[0m\n\u001b[1;32m     14\u001b[0m     var_pts\u001b[39m=\u001b[39mvar_pts,\n\u001b[1;32m     15\u001b[0m )\n\u001b[0;32m---> 16\u001b[0m solution1 \u001b[39m=\u001b[39m sim1\u001b[39m.\u001b[39;49msolve(calc_esoh\u001b[39m=\u001b[39;49m\u001b[39mFalse\u001b[39;49;00m)\n",
      "File \u001b[0;32m~/EnvPB_Linux/PyBaMM/pybamm/simulation.py:747\u001b[0m, in \u001b[0;36mSimulation.solve\u001b[0;34m(self, t_eval, solver, check_model, save_at_cycles, calc_esoh, starting_solution, initial_soc, callbacks, showprogress, **kwargs)\u001b[0m\n\u001b[1;32m    745\u001b[0m \u001b[39m# If none of the cycles worked, raise an error\u001b[39;00m\n\u001b[1;32m    746\u001b[0m \u001b[39mif\u001b[39;00m cycle_num \u001b[39m==\u001b[39m \u001b[39m1\u001b[39m \u001b[39mand\u001b[39;00m step_num \u001b[39m==\u001b[39m \u001b[39m1\u001b[39m:\n\u001b[0;32m--> 747\u001b[0m     \u001b[39mraise\u001b[39;00m error\n\u001b[1;32m    748\u001b[0m \u001b[39m# Otherwise, just stop this cycle\u001b[39;00m\n\u001b[1;32m    749\u001b[0m \u001b[39mbreak\u001b[39;00m\n",
      "File \u001b[0;32m~/EnvPB_Linux/PyBaMM/pybamm/simulation.py:725\u001b[0m, in \u001b[0;36mSimulation.solve\u001b[0;34m(self, t_eval, solver, check_model, save_at_cycles, calc_esoh, starting_solution, initial_soc, callbacks, showprogress, **kwargs)\u001b[0m\n\u001b[1;32m    723\u001b[0m npts \u001b[39m=\u001b[39m \u001b[39mmax\u001b[39m(\u001b[39mint\u001b[39m(\u001b[39mround\u001b[39m(dt \u001b[39m/\u001b[39m op_conds\u001b[39m.\u001b[39mperiod)) \u001b[39m+\u001b[39m \u001b[39m1\u001b[39m, \u001b[39m2\u001b[39m)\n\u001b[1;32m    724\u001b[0m \u001b[39mtry\u001b[39;00m:\n\u001b[0;32m--> 725\u001b[0m     step_solution \u001b[39m=\u001b[39m solver\u001b[39m.\u001b[39;49mstep(\n\u001b[1;32m    726\u001b[0m         current_solution,\n\u001b[1;32m    727\u001b[0m         model,\n\u001b[1;32m    728\u001b[0m         dt,\n\u001b[1;32m    729\u001b[0m         npts\u001b[39m=\u001b[39;49mnpts,\n\u001b[1;32m    730\u001b[0m         save\u001b[39m=\u001b[39;49m\u001b[39mFalse\u001b[39;49;00m,\n\u001b[1;32m    731\u001b[0m         \u001b[39m*\u001b[39;49m\u001b[39m*\u001b[39;49mkwargs,\n\u001b[1;32m    732\u001b[0m     )\n\u001b[1;32m    733\u001b[0m \u001b[39mexcept\u001b[39;00m pybamm\u001b[39m.\u001b[39mSolverError \u001b[39mas\u001b[39;00m error:\n\u001b[1;32m    734\u001b[0m     \u001b[39mif\u001b[39;00m (\n\u001b[1;32m    735\u001b[0m         \u001b[39m\"\u001b[39m\u001b[39mnon-positive at initial conditions\u001b[39m\u001b[39m\"\u001b[39m \u001b[39min\u001b[39;00m error\u001b[39m.\u001b[39mmessage\n\u001b[1;32m    736\u001b[0m         \u001b[39mand\u001b[39;00m \u001b[39m\"\u001b[39m\u001b[39m[experiment]\u001b[39m\u001b[39m\"\u001b[39m \u001b[39min\u001b[39;00m error\u001b[39m.\u001b[39mmessage\n\u001b[1;32m    737\u001b[0m     ):\n",
      "File \u001b[0;32m~/EnvPB_Linux/PyBaMM/pybamm/solvers/base_solver.py:1191\u001b[0m, in \u001b[0;36mBaseSolver.step\u001b[0;34m(self, old_solution, model, dt, npts, inputs, save)\u001b[0m\n\u001b[1;32m   1187\u001b[0m pybamm\u001b[39m.\u001b[39mlogger\u001b[39m.\u001b[39mverbose(\n\u001b[1;32m   1188\u001b[0m     \u001b[39m\"\u001b[39m\u001b[39mStepping for \u001b[39m\u001b[39m{:.0f}\u001b[39;00m\u001b[39m < t < \u001b[39m\u001b[39m{:.0f}\u001b[39;00m\u001b[39m\"\u001b[39m\u001b[39m.\u001b[39mformat(t_start_shifted, t_end)\n\u001b[1;32m   1189\u001b[0m )\n\u001b[1;32m   1190\u001b[0m timer\u001b[39m.\u001b[39mreset()\n\u001b[0;32m-> 1191\u001b[0m solution \u001b[39m=\u001b[39m \u001b[39mself\u001b[39;49m\u001b[39m.\u001b[39;49m_integrate(model, t_eval, model_inputs)\n\u001b[1;32m   1192\u001b[0m solution\u001b[39m.\u001b[39msolve_time \u001b[39m=\u001b[39m timer\u001b[39m.\u001b[39mtime()\n\u001b[1;32m   1194\u001b[0m \u001b[39m# Check if extrapolation occurred\u001b[39;00m\n",
      "File \u001b[0;32m~/EnvPB_Linux/PyBaMM/pybamm/solvers/casadi_solver.py:285\u001b[0m, in \u001b[0;36mCasadiSolver._integrate\u001b[0;34m(self, model, t_eval, inputs_dict)\u001b[0m\n\u001b[1;32m    283\u001b[0m                 \u001b[39mbreak\u001b[39;00m\n\u001b[1;32m    284\u001b[0m             \u001b[39melse\u001b[39;00m:\n\u001b[0;32m--> 285\u001b[0m                 \u001b[39mraise\u001b[39;00m pybamm\u001b[39m.\u001b[39mSolverError(\n\u001b[1;32m    286\u001b[0m                     message\n\u001b[1;32m    287\u001b[0m                     \u001b[39m+\u001b[39m \u001b[39m\"\u001b[39m\u001b[39m Set `return_solution_if_failed_early=True` to \u001b[39m\u001b[39m\"\u001b[39m\n\u001b[1;32m    288\u001b[0m                     \u001b[39m\"\u001b[39m\u001b[39mreturn the solution object up to the point where \u001b[39m\u001b[39m\"\u001b[39m\n\u001b[1;32m    289\u001b[0m                     \u001b[39m\"\u001b[39m\u001b[39mfailure occured.\u001b[39m\u001b[39m\"\u001b[39m\n\u001b[1;32m    290\u001b[0m                 )\n\u001b[1;32m    291\u001b[0m \u001b[39mif\u001b[39;00m termination_due_to_small_dt:\n\u001b[1;32m    292\u001b[0m     \u001b[39mbreak\u001b[39;00m\n",
      "\u001b[0;31mSolverError\u001b[0m: Maximum number of decreased steps occurred at t=0.0 (final SolverError: 'Error in Function::call for 'F' [IdasInterface] at .../casadi/core/function.cpp:1401:\nError in Function::call for 'F' [IdasInterface] at .../casadi/core/function.cpp:330:\n.../casadi/interfaces/sundials/idas_interface.cpp:596: IDACalcIC returned \"IDA_FIRST_RES_FAIL\". Consult IDAS documentation.'). For a full solution try reducing dt_max (currently, dt_max=600) and/or reducing the size of the time steps or period of the experiment. Set `return_solution_if_failed_early=True` to return the solution object up to the point where failure occured."
     ]
    }
   ],
   "source": [
    "var_pts = {\n",
    "    \"x_n\": 5,  # negative electrode\n",
    "    \"x_s\": 5,  # separator \n",
    "    \"x_p\": 5,  # positive electrode\n",
    "    \"r_n\": 200,  # negative particle\n",
    "    \"r_p\": 20,  # positive particle\n",
    "}\n",
    "sim1 = pybamm.Simulation(\n",
    "    model, \n",
    "    experiment=exp,\n",
    "    parameter_values=param,\n",
    "    solver=pybamm.CasadiSolver(\n",
    "        return_solution_if_failed_early=True,),\n",
    "    var_pts=var_pts,\n",
    ")\n",
    "solution1 = sim1.solve(calc_esoh=False)"
   ]
  },
  {
   "cell_type": "code",
   "execution_count": null,
   "id": "03f9df8b",
   "metadata": {},
   "outputs": [],
   "source": []
  }
 ],
 "metadata": {
  "kernelspec": {
   "display_name": "Python 3 (ipykernel)",
   "language": "python",
   "name": "python3"
  },
  "language_info": {
   "codemirror_mode": {
    "name": "ipython",
    "version": 3
   },
   "file_extension": ".py",
   "mimetype": "text/x-python",
   "name": "python",
   "nbconvert_exporter": "python",
   "pygments_lexer": "ipython3",
   "version": "3.10.6"
  }
 },
 "nbformat": 4,
 "nbformat_minor": 5
}
