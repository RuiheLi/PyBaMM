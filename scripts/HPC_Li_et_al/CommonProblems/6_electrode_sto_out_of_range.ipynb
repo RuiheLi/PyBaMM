{
 "cells": [
  {
   "cell_type": "markdown",
   "id": "c7c4d28d",
   "metadata": {},
   "source": [
    "### This notebook reproduces Experiment infeasible due to very low cut-off voltage"
   ]
  },
  {
   "cell_type": "code",
   "execution_count": 36,
   "id": "72f8f813",
   "metadata": {},
   "outputs": [],
   "source": [
    "import matplotlib.pyplot as plt\n",
    "import numpy as np\n",
    "import pybamm\n",
    "import pandas as pd"
   ]
  },
  {
   "cell_type": "code",
   "execution_count": 37,
   "id": "7d053c74",
   "metadata": {},
   "outputs": [],
   "source": [
    "model = pybamm.lithium_ion.DFN()\n",
    "param = pybamm.ParameterValues(\"OKane2022\")\n",
    "exp = pybamm.Experiment([(\n",
    "    \"Discharge at 1C for 70 minutes\", \n",
    "    \"Rest for 1 hours\", \n",
    "    \"Charge at 1C until 4.2V\", \n",
    ")] *1 )\n",
    "var_pts = {\n",
    "    \"x_n\": 10,  # negative electrode\n",
    "    \"x_s\": 10,  # separator \n",
    "    \"x_p\": 10,  # positive electrode\n",
    "    \"r_n\": 30,  # negative particle\n",
    "    \"r_p\": 20,  # positive particle\n",
    "}"
   ]
  },
  {
   "cell_type": "code",
   "execution_count": 38,
   "id": "e07b49f1",
   "metadata": {},
   "outputs": [
    {
     "name": "stderr",
     "output_type": "stream",
     "text": [
      "At t = 472.849 and h = 6.14657e-14, the corrector convergence failed repeatedly or with |h| = hmin.\n",
      "At t = 232.849 and h = 9.2307e-15, the corrector convergence failed repeatedly or with |h| = hmin.\n",
      "At t = 112.849 and h = 1.53805e-14, the corrector convergence failed repeatedly or with |h| = hmin.\n",
      "At t = 52.8492 and h = 4.4306e-14, the corrector convergence failed repeatedly or with |h| = hmin.\n",
      "At t = 15.3492, repeated recoverable residual errors.\n",
      "At t = 15.3492 and h = 3.86634e-14, the corrector convergence failed repeatedly or with |h| = hmin.\n",
      "At t = 5.9742 and h = 4.92549e-18, the corrector convergence failed repeatedly or with |h| = hmin.\n",
      "At t = 1.2867 and h = 4.87075e-14, the corrector convergence failed repeatedly or with |h| = hmin.\n",
      "At t = 1.2867 and h = 1.25371e-14, the corrector convergence failed repeatedly or with |h| = hmin.\n",
      "At t = 0.114828 and h = 1.42686e-14, the corrector convergence failed repeatedly or with |h| = hmin.\n",
      "At t = 0.114828 and h = 5.88356e-15, the corrector convergence failed repeatedly or with |h| = hmin.\n",
      "At t = 0.114828 and h = 5.87505e-20, the corrector convergence failed repeatedly or with |h| = hmin.\n",
      "At t = 0.114828 and h = 2.51194e-14, the corrector convergence failed repeatedly or with |h| = hmin.\n",
      "At t = 0.0415853 and h = 9.07088e-30, the corrector convergence failed repeatedly or with |h| = hmin.\n",
      "2023-08-28 21:41:21.130 - [WARNING] callbacks.on_experiment_infeasible(231): \n",
      "\n",
      "\tExperiment is infeasible: 'event: Minimum voltage [V]' was triggered during 'Discharge at 1C for 70 minutes'. The returned solution only contains up to step 1 of cycle 1. \n"
     ]
    }
   ],
   "source": [
    "sim1 = pybamm.Simulation(\n",
    "    model, \n",
    "    experiment=exp,\n",
    "    parameter_values=param,\n",
    "    solver=pybamm.CasadiSolver(return_solution_if_failed_early=True),\n",
    "    var_pts=var_pts,\n",
    ")\n",
    "sol1 = sim1.solve(calc_esoh=False)"
   ]
  },
  {
   "cell_type": "code",
   "execution_count": 39,
   "id": "e36da21c",
   "metadata": {},
   "outputs": [
    {
     "data": {
      "text/plain": [
       "[<pybamm.solvers.solution.Solution at 0x7fed112e80d0>]"
      ]
     },
     "execution_count": 39,
     "metadata": {},
     "output_type": "execute_result"
    }
   ],
   "source": [
    "sol1.cycles"
   ]
  },
  {
   "cell_type": "code",
   "execution_count": 40,
   "id": "6d04d3f6",
   "metadata": {},
   "outputs": [
    {
     "data": {
      "application/vnd.jupyter.widget-view+json": {
       "model_id": "1a6fa1f92f884eda82008057c443438f",
       "version_major": 2,
       "version_minor": 0
      },
      "text/plain": [
       "interactive(children=(FloatSlider(value=0.0, description='t', max=1.0313417231326316, step=0.01031341723132631…"
      ]
     },
     "metadata": {},
     "output_type": "display_data"
    }
   ],
   "source": [
    "Vars = [\n",
    "    \"Current [A]\",\n",
    "    \"Terminal voltage [V]\",\n",
    "    \"Negative electrode stoichiometry\",\n",
    "    \"Positive electrode stoichiometry\",\n",
    "]\n",
    "quick_plot = pybamm.QuickPlot(sol1, Vars,variable_limits='fixed') #     \n",
    "quick_plot.dynamic_plot();"
   ]
  }
 ],
 "metadata": {
  "kernelspec": {
   "display_name": "Python 3 (ipykernel)",
   "language": "python",
   "name": "python3"
  },
  "language_info": {
   "codemirror_mode": {
    "name": "ipython",
    "version": 3
   },
   "file_extension": ".py",
   "mimetype": "text/x-python",
   "name": "python",
   "nbconvert_exporter": "python",
   "pygments_lexer": "ipython3",
   "version": "3.10.6"
  }
 },
 "nbformat": 4,
 "nbformat_minor": 5
}
