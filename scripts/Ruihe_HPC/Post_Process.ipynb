{
 "cells": [
  {
   "cell_type": "markdown",
   "metadata": {},
   "source": [
    "### Post-prosessing for HPC paper"
   ]
  },
  {
   "cell_type": "code",
   "execution_count": 31,
   "metadata": {},
   "outputs": [
    {
     "name": "stdout",
     "output_type": "stream",
     "text": [
      "The autoreload extension is already loaded. To reload it, use:\n",
      "  %reload_ext autoreload\n"
     ]
    }
   ],
   "source": [
    "# magic lines that avoid re-start \n",
    "%load_ext autoreload\n",
    "%autoreload 2\n",
    "import csv, random, os\n",
    "import pybamm as pb;import pandas as pd;import numpy as np;\n",
    "import os, json,openpyxl,traceback,multiprocessing,scipy.optimize\n",
    "import matplotlib.pyplot as plt;\n",
    "import imageio,timeit,random,time, signal\n",
    "from scipy.io import savemat,loadmat;\n",
    "from pybamm import constants,exp;import matplotlib as mpl; \n",
    "fs=17; \n",
    "font = {'family' : 'DejaVu Sans','size'   : fs}\n",
    "mpl.rc('font', **font)"
   ]
  },
  {
   "cell_type": "code",
   "execution_count": 32,
   "metadata": {},
   "outputs": [],
   "source": [
    "from Fun_P2 import *"
   ]
  },
  {
   "cell_type": "code",
   "execution_count": 33,
   "metadata": {},
   "outputs": [
    {
     "name": "stdout",
     "output_type": "stream",
     "text": [
      "/home/ruihe_li/EnvPBGEM_Linux/SimSave/HPC_Paper/Age_11_Full_inGEM2\n"
     ]
    }
   ],
   "source": [
    "Root_Path =  os.path.expanduser(\n",
    "   \"~/EnvPBGEM_Linux/SimSave/HPC_Paper/\")\n",
    "rows_per_file = 4;  Scan_end_end = 200;\n",
    "purpose_i = \"Age_11_Full_inGEM2\"\n",
    "BasicPath = os.path.join(Root_Path, purpose_i)\n",
    "print(BasicPath)"
   ]
  },
  {
   "cell_type": "code",
   "execution_count": 34,
   "metadata": {},
   "outputs": [],
   "source": [
    "Move_png(Root_Path,rows_per_file,Scan_end_end,purpose_i)"
   ]
  },
  {
   "cell_type": "code",
   "execution_count": 35,
   "metadata": {},
   "outputs": [
    {
     "name": "stdout",
     "output_type": "stream",
     "text": [
      "Create the summary file.\n"
     ]
    },
    {
     "ename": "KeyError",
     "evalue": "\"There is no item named '[Content_Types].xml' in the archive\"",
     "output_type": "error",
     "traceback": [
      "\u001b[0;31m---------------------------------------------------------------------------\u001b[0m",
      "\u001b[0;31mKeyError\u001b[0m                                  Traceback (most recent call last)",
      "Cell \u001b[0;32mIn[35], line 13\u001b[0m\n\u001b[1;32m     11\u001b[0m source_file \u001b[39m=\u001b[39m BasicPath\u001b[39m+\u001b[39m\u001b[39mf\u001b[39m\u001b[39m\"\u001b[39m\u001b[39m/\u001b[39m\u001b[39m{\u001b[39;00mpurpose_i\u001b[39m}\u001b[39;00m\u001b[39m_Case_\u001b[39m\u001b[39m{\u001b[39;00mScan_start\u001b[39m}\u001b[39;00m\u001b[39m_\u001b[39m\u001b[39m{\u001b[39;00mScan_end\u001b[39m}\u001b[39;00m\u001b[39m/\u001b[39m\u001b[39m\"\u001b[39m\u001b[39m+\u001b[39m\u001b[39mf\u001b[39m\u001b[39m\"\u001b[39m\u001b[39mSummary_\u001b[39m\u001b[39m{\u001b[39;00mpurpose_i\u001b[39m}\u001b[39;00m\u001b[39m_Case_\u001b[39m\u001b[39m{\u001b[39;00mScan_start\u001b[39m}\u001b[39;00m\u001b[39m_\u001b[39m\u001b[39m{\u001b[39;00mScan_end\u001b[39m}\u001b[39;00m\u001b[39m.xlsx\u001b[39m\u001b[39m\"\u001b[39m\n\u001b[1;32m     12\u001b[0m \u001b[39m# get first line of first result\u001b[39;00m\n\u001b[0;32m---> 13\u001b[0m Copy_1st_row(source_file,target_file)\n\u001b[1;32m     14\u001b[0m \u001b[39m# collect all results\u001b[39;00m\n\u001b[1;32m     15\u001b[0m Collect_Excel(BasicPath,target_file,purpose_i,rows_per_file,Scan_end_end)\n",
      "File \u001b[0;32m~/EnvPB_Linux/PyBaMM/scripts/Ruihe_HPC/Fun_P2.py:2716\u001b[0m, in \u001b[0;36mCopy_1st_row\u001b[0;34m(source_file, target_file)\u001b[0m\n\u001b[1;32m   2714\u001b[0m \u001b[39mdef\u001b[39;00m \u001b[39mCopy_1st_row\u001b[39m(source_file,target_file):\n\u001b[1;32m   2715\u001b[0m     \u001b[39m# Load source workbook and target workbook\u001b[39;00m\n\u001b[0;32m-> 2716\u001b[0m     source_workbook \u001b[39m=\u001b[39m openpyxl\u001b[39m.\u001b[39;49mload_workbook(source_file)\n\u001b[1;32m   2717\u001b[0m     target_workbook \u001b[39m=\u001b[39m openpyxl\u001b[39m.\u001b[39mload_workbook(target_file)\n\u001b[1;32m   2718\u001b[0m     \u001b[39m# Assuming there's only one sheet in each workbook\u001b[39;00m\n",
      "File \u001b[0;32m~/EnvPB_Linux/lib/python3.10/site-packages/openpyxl/reader/excel.py:346\u001b[0m, in \u001b[0;36mload_workbook\u001b[0;34m(filename, read_only, keep_vba, data_only, keep_links, rich_text)\u001b[0m\n\u001b[1;32m    316\u001b[0m \u001b[39m\u001b[39m\u001b[39m\"\"\"Open the given filename and return the workbook\u001b[39;00m\n\u001b[1;32m    317\u001b[0m \n\u001b[1;32m    318\u001b[0m \u001b[39m:param filename: the path to open or a file-like object\u001b[39;00m\n\u001b[0;32m   (...)\u001b[0m\n\u001b[1;32m    342\u001b[0m \n\u001b[1;32m    343\u001b[0m \u001b[39m\"\"\"\u001b[39;00m\n\u001b[1;32m    344\u001b[0m reader \u001b[39m=\u001b[39m ExcelReader(filename, read_only, keep_vba,\n\u001b[1;32m    345\u001b[0m                      data_only, keep_links, rich_text)\n\u001b[0;32m--> 346\u001b[0m reader\u001b[39m.\u001b[39;49mread()\n\u001b[1;32m    347\u001b[0m \u001b[39mreturn\u001b[39;00m reader\u001b[39m.\u001b[39mwb\n",
      "File \u001b[0;32m~/EnvPB_Linux/lib/python3.10/site-packages/openpyxl/reader/excel.py:287\u001b[0m, in \u001b[0;36mExcelReader.read\u001b[0;34m(self)\u001b[0m\n\u001b[1;32m    285\u001b[0m action \u001b[39m=\u001b[39m \u001b[39m\"\u001b[39m\u001b[39mread manifest\u001b[39m\u001b[39m\"\u001b[39m\n\u001b[1;32m    286\u001b[0m \u001b[39mtry\u001b[39;00m:\n\u001b[0;32m--> 287\u001b[0m     \u001b[39mself\u001b[39;49m\u001b[39m.\u001b[39;49mread_manifest()\n\u001b[1;32m    288\u001b[0m     action \u001b[39m=\u001b[39m \u001b[39m\"\u001b[39m\u001b[39mread strings\u001b[39m\u001b[39m\"\u001b[39m\n\u001b[1;32m    289\u001b[0m     \u001b[39mself\u001b[39m\u001b[39m.\u001b[39mread_strings()\n",
      "File \u001b[0;32m~/EnvPB_Linux/lib/python3.10/site-packages/openpyxl/reader/excel.py:134\u001b[0m, in \u001b[0;36mExcelReader.read_manifest\u001b[0;34m(self)\u001b[0m\n\u001b[1;32m    133\u001b[0m \u001b[39mdef\u001b[39;00m \u001b[39mread_manifest\u001b[39m(\u001b[39mself\u001b[39m):\n\u001b[0;32m--> 134\u001b[0m     src \u001b[39m=\u001b[39m \u001b[39mself\u001b[39;49m\u001b[39m.\u001b[39;49marchive\u001b[39m.\u001b[39;49mread(ARC_CONTENT_TYPES)\n\u001b[1;32m    135\u001b[0m     root \u001b[39m=\u001b[39m fromstring(src)\n\u001b[1;32m    136\u001b[0m     \u001b[39mself\u001b[39m\u001b[39m.\u001b[39mpackage \u001b[39m=\u001b[39m Manifest\u001b[39m.\u001b[39mfrom_tree(root)\n",
      "File \u001b[0;32m/usr/lib/python3.10/zipfile.py:1475\u001b[0m, in \u001b[0;36mZipFile.read\u001b[0;34m(self, name, pwd)\u001b[0m\n\u001b[1;32m   1473\u001b[0m \u001b[39mdef\u001b[39;00m \u001b[39mread\u001b[39m(\u001b[39mself\u001b[39m, name, pwd\u001b[39m=\u001b[39m\u001b[39mNone\u001b[39;00m):\n\u001b[1;32m   1474\u001b[0m \u001b[39m    \u001b[39m\u001b[39m\"\"\"Return file bytes for name.\"\"\"\u001b[39;00m\n\u001b[0;32m-> 1475\u001b[0m     \u001b[39mwith\u001b[39;00m \u001b[39mself\u001b[39;49m\u001b[39m.\u001b[39;49mopen(name, \u001b[39m\"\u001b[39;49m\u001b[39mr\u001b[39;49m\u001b[39m\"\u001b[39;49m, pwd) \u001b[39mas\u001b[39;00m fp:\n\u001b[1;32m   1476\u001b[0m         \u001b[39mreturn\u001b[39;00m fp\u001b[39m.\u001b[39mread()\n",
      "File \u001b[0;32m/usr/lib/python3.10/zipfile.py:1514\u001b[0m, in \u001b[0;36mZipFile.open\u001b[0;34m(self, name, mode, pwd, force_zip64)\u001b[0m\n\u001b[1;32m   1511\u001b[0m     zinfo\u001b[39m.\u001b[39m_compresslevel \u001b[39m=\u001b[39m \u001b[39mself\u001b[39m\u001b[39m.\u001b[39mcompresslevel\n\u001b[1;32m   1512\u001b[0m \u001b[39melse\u001b[39;00m:\n\u001b[1;32m   1513\u001b[0m     \u001b[39m# Get info object for name\u001b[39;00m\n\u001b[0;32m-> 1514\u001b[0m     zinfo \u001b[39m=\u001b[39m \u001b[39mself\u001b[39;49m\u001b[39m.\u001b[39;49mgetinfo(name)\n\u001b[1;32m   1516\u001b[0m \u001b[39mif\u001b[39;00m mode \u001b[39m==\u001b[39m \u001b[39m'\u001b[39m\u001b[39mw\u001b[39m\u001b[39m'\u001b[39m:\n\u001b[1;32m   1517\u001b[0m     \u001b[39mreturn\u001b[39;00m \u001b[39mself\u001b[39m\u001b[39m.\u001b[39m_open_to_write(zinfo, force_zip64\u001b[39m=\u001b[39mforce_zip64)\n",
      "File \u001b[0;32m/usr/lib/python3.10/zipfile.py:1441\u001b[0m, in \u001b[0;36mZipFile.getinfo\u001b[0;34m(self, name)\u001b[0m\n\u001b[1;32m   1439\u001b[0m info \u001b[39m=\u001b[39m \u001b[39mself\u001b[39m\u001b[39m.\u001b[39mNameToInfo\u001b[39m.\u001b[39mget(name)\n\u001b[1;32m   1440\u001b[0m \u001b[39mif\u001b[39;00m info \u001b[39mis\u001b[39;00m \u001b[39mNone\u001b[39;00m:\n\u001b[0;32m-> 1441\u001b[0m     \u001b[39mraise\u001b[39;00m \u001b[39mKeyError\u001b[39;00m(\n\u001b[1;32m   1442\u001b[0m         \u001b[39m'\u001b[39m\u001b[39mThere is no item named \u001b[39m\u001b[39m%r\u001b[39;00m\u001b[39m in the archive\u001b[39m\u001b[39m'\u001b[39m \u001b[39m%\u001b[39m name)\n\u001b[1;32m   1444\u001b[0m \u001b[39mreturn\u001b[39;00m info\n",
      "\u001b[0;31mKeyError\u001b[0m: \"There is no item named '[Content_Types].xml' in the archive\""
     ]
    }
   ],
   "source": [
    "workbook = openpyxl.Workbook() \n",
    "sheet = workbook.active  \n",
    "sheet.title = \"Summary\" \n",
    "target_file = BasicPath+f\"/Summary_{purpose_i}.xlsx\"\n",
    "workbook.save(target_file )\n",
    "print(\"Create the summary file.\")\n",
    "workbook.close()\n",
    "\n",
    "Scan_start = 1 ; Scan_end =  rows_per_file\n",
    "# Load the source and target Excel files\n",
    "source_file = BasicPath+f\"/{purpose_i}_Case_{Scan_start}_{Scan_end}/\"+f\"Summary_{purpose_i}_Case_{Scan_start}_{Scan_end}.xlsx\"\n",
    "# get first line of first result\n",
    "Copy_1st_row(source_file,target_file)\n",
    "# collect all results\n",
    "Collect_Excel(BasicPath,target_file,purpose_i,rows_per_file,Scan_end_end)"
   ]
  },
  {
   "cell_type": "code",
   "execution_count": null,
   "metadata": {},
   "outputs": [],
   "source": [
    "# load the results, do pair plots, sensitivity analysis\n"
   ]
  }
 ],
 "metadata": {
  "kernelspec": {
   "display_name": "EnvPB_Linux",
   "language": "python",
   "name": "python3"
  },
  "language_info": {
   "codemirror_mode": {
    "name": "ipython",
    "version": 3
   },
   "file_extension": ".py",
   "mimetype": "text/x-python",
   "name": "python",
   "nbconvert_exporter": "python",
   "pygments_lexer": "ipython3",
   "version": "3.10.6"
  },
  "orig_nbformat": 4
 },
 "nbformat": 4,
 "nbformat_minor": 2
}
